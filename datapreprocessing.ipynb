{
 "cells": [
  {
   "cell_type": "markdown",
   "metadata": {
    "id": "C-FmrrejqUei"
   },
   "source": [
    "Importing data manipulation libraries"
   ]
  },
  {
   "cell_type": "code",
   "execution_count": 1,
   "metadata": {
    "id": "gn7ZdWDEqT8t"
   },
   "outputs": [],
   "source": [
    "import pandas as pd\n",
    "import numpy as np\n",
    "import matplotlib.pyplot as plt"
   ]
  },
  {
   "cell_type": "markdown",
   "metadata": {
    "id": "gFYF4ArZqJcC"
   },
   "source": [
    "Location of Moonjit csv file folder"
   ]
  },
  {
   "cell_type": "code",
   "execution_count": 2,
   "metadata": {
    "id": "3Ijesn8Tp6WW"
   },
   "outputs": [],
   "source": [
    "import os \n",
    "\n",
    "main_dir = os.getcwd()"
   ]
  },
  {
   "cell_type": "markdown",
   "metadata": {
    "id": "i3ECEkEvqcFF"
   },
   "source": [
    "Reading csv file using read_csv\n",
    "\n",
    "The csv data has different length rows for each entry. Use delimiter to first seperate each entries"
   ]
  },
  {
   "cell_type": "code",
   "execution_count": 4,
   "metadata": {
    "colab": {
     "base_uri": "https://localhost:8080/"
    },
    "executionInfo": {
     "elapsed": 29244,
     "status": "ok",
     "timestamp": 1615920002058,
     "user": {
      "displayName": "Shivam Balikondwar",
      "photoUrl": "https://lh3.googleusercontent.com/a-/AOh14GhP350413RUyAo9Fb-EoVnG0MwLSZoEOnbJ1cY3=s64",
      "userId": "09326338805341118172"
     },
     "user_tz": -330
    },
    "id": "poqe065zqhol",
    "outputId": "56ceef80-f107-4b76-9dc5-3cf56711b810"
   },
   "outputs": [
    {
     "name": "stdout",
     "output_type": "stream",
     "text": [
      "                                                                                                                                                                                                                                                                       0\n",
      "0  354;monojet_Zp2000.0_DM_50.0;2.44336e-05;832841;-1.22431;b,947383,824498,-0.523103,1.64421;j,258722,243675,0.328962,2.25014;j,520092,108590,-2.2473,-1.85679;j,383024,88405.6,2.14516,-1.95635;j,39507.6,35365.1,0.47046,-1.16445;j,225430,26878.2,-2.81608,-2.25938;\n",
      "1                                                                                                     354;monojet_Zp2000.0_DM_50.0;2.44336e-05;732115;1.17245;j,1.06946e+06,751597,0.858186,-1.84217;j,457647,110079,2.10287,2.17501;j,49649.1,30875.2,-1.03189,-1.7992;\n",
      "2                                                         354;monojet_Zp2000.0_DM_50.0;2.44336e-05;1.05628e+06;-3.06744;j,676000,640429,0.33045,0.704554;j,1.2393e+06,602104,1.34324,-0.550856;j,193865,44825.7,-2.14231,-0.965933;j,28217.2,24926.6,-0.454264,0.516676;\n",
      "3                                                                                                                                          354;monojet_Zp2000.0_DM_50.0;2.44336e-05;631781;1.64181;j,936707,616229,0.973383,-1.56592;j,75998,52304.3,0.905489,-0.806736;\n",
      "4                                                                                                                                            354;monojet_Zp2000.0_DM_50.0;2.44336e-05;457316;-1.87536;j,640313,589524,0.390749,1.23734;j,332790,126272,1.61998,-1.85524;\n"
     ]
    }
   ],
   "source": [
    "data = pd.read_csv(main_dir+'/monojet_Zp2000.0_DM_50.0_chan3.csv', sep='delimiter', engine='python', header=None)\n",
    "\n",
    "#To print whole content of a file\n",
    "pd.set_option('display.max_rows', None)\n",
    "pd.set_option('display.max_columns', None)\n",
    "pd.set_option('display.width', None)\n",
    "pd.set_option('display.max_colwidth', None)\n",
    "\n",
    "print(data.head())"
   ]
  },
  {
   "cell_type": "code",
   "execution_count": 20,
   "metadata": {
    "colab": {
     "base_uri": "https://localhost:8080/"
    },
    "executionInfo": {
     "elapsed": 29242,
     "status": "ok",
     "timestamp": 1615920002059,
     "user": {
      "displayName": "Shivam Balikondwar",
      "photoUrl": "https://lh3.googleusercontent.com/a-/AOh14GhP350413RUyAo9Fb-EoVnG0MwLSZoEOnbJ1cY3=s64",
      "userId": "09326338805341118172"
     },
     "user_tz": -330
    },
    "id": "TdS0FAuiprW3",
    "outputId": "a3dd3099-e949-48f9-e237-f4ca787173ae"
   },
   "outputs": [
    {
     "name": "stdout",
     "output_type": "stream",
     "text": [
      "0    354;monojet_Zp2000.0_DM_50.0;2.44336e-05;832841;-1.22431;b,947383,824498,-0.523103,1.64421;j,258722,243675,0.328962,2.25014;j,520092,108590,-2.2473,-1.85679;j,383024,88405.6,2.14516,-1.95635;j,39507.6,35365.1,0.47046,-1.16445;j,225430,26878.2,-2.81608,-2.25938;\n",
      "Name: 0, dtype: object\n"
     ]
    }
   ],
   "source": [
    "print(data.iloc[0])"
   ]
  },
  {
   "cell_type": "markdown",
   "metadata": {
    "id": "NGCO9NGrrOo2"
   },
   "source": [
    "Seperating data elements having ';' and ',' seperator\n",
    "\n"
   ]
  },
  {
   "cell_type": "code",
   "execution_count": 21,
   "metadata": {
    "id": "vTRmqqKSrNBB"
   },
   "outputs": [],
   "source": [
    "seperated_data = pd.DataFrame()\n",
    "\n",
    "for val in data.values:\n",
    "  val = pd.Series(val)\n",
    "  splitted_str = val.str.split(r\"[,;]\",expand=True)\n",
    "  seperated_data = seperated_data.append(splitted_str, ignore_index=True)"
   ]
  },
  {
   "cell_type": "code",
   "execution_count": 22,
   "metadata": {
    "colab": {
     "base_uri": "https://localhost:8080/"
    },
    "executionInfo": {
     "elapsed": 121830,
     "status": "ok",
     "timestamp": 1615920094652,
     "user": {
      "displayName": "Shivam Balikondwar",
      "photoUrl": "https://lh3.googleusercontent.com/a-/AOh14GhP350413RUyAo9Fb-EoVnG0MwLSZoEOnbJ1cY3=s64",
      "userId": "09326338805341118172"
     },
     "user_tz": -330
    },
    "id": "GEGirTo2tEyb",
    "outputId": "c5fd4004-4771-41de-e97a-2b489482c566"
   },
   "outputs": [
    {
     "name": "stdout",
     "output_type": "stream",
     "text": [
      "       0                         1            2       3           4  5   \\\n",
      "6394  354  monojet_Zp2000.0_DM_50.0  2.44336e-05  914355     1.52903  j   \n",
      "6395  354  monojet_Zp2000.0_DM_50.0  2.44336e-05  782256    -1.20751  j   \n",
      "6396  354  monojet_Zp2000.0_DM_50.0  2.44336e-05  645619    -2.48399  j   \n",
      "6397  354  monojet_Zp2000.0_DM_50.0  2.44336e-05  632390   -0.975687  j   \n",
      "6398  354  monojet_Zp2000.0_DM_50.0  2.44336e-05  820060  -0.0437853  j   \n",
      "\n",
      "               6            7          8         9  10      11       12  \\\n",
      "6394  1.11994e+06  1.01269e+06   0.453265  -1.77278  b  246762  95229.6   \n",
      "6395  1.91509e+06       874869    1.41855   1.83927  j  156224   152161   \n",
      "6396       787964       263158    1.75981  0.456786  j  408087   258903   \n",
      "6397       731849       722541  -0.134499   2.56393  j  268828   259144   \n",
      "6398       893689       742040  -0.618057  -3.10466  j  107526   106995   \n",
      "\n",
      "              13         14 15           16       17        18         19  \\\n",
      "6394     1.60511  -0.520258  j       402070  77864.5   2.32445    0.92948   \n",
      "6395   -0.222571   -1.83395  j       102296  64861.3   1.02478   0.412515   \n",
      "6396     -1.0269    1.53073  j  1.42801e+06   204716  -2.63018  -0.253528   \n",
      "6397    0.153813   0.578428  j       153340  43931.5   1.92014  -0.237382   \n",
      "6398  -0.0485649    2.43606             NaN      NaN       NaN        NaN   \n",
      "\n",
      "       20       21       22         23       24   25       26       27  \\\n",
      "6394    j  74709.2  69979.3   0.359168  0.94458           NaN      NaN   \n",
      "6395    j   421972  37149.5   -3.12086  2.50949           NaN      NaN   \n",
      "6396    j  75924.4  63520.6  -0.586197  0.84639    j  54710.9  47683.2   \n",
      "6397           NaN      NaN        NaN      NaN  NaN      NaN      NaN   \n",
      "6398  NaN      NaN      NaN        NaN      NaN  NaN      NaN      NaN   \n",
      "\n",
      "            28        29   30      31       32        33       34   35  \\\n",
      "6394       NaN       NaN  NaN     NaN      NaN       NaN      NaN  NaN   \n",
      "6395       NaN       NaN  NaN     NaN      NaN       NaN      NaN  NaN   \n",
      "6396  0.527799  -1.58165    j  173678  45568.1  -2.01196  1.10735    j   \n",
      "6397       NaN       NaN  NaN     NaN      NaN       NaN      NaN  NaN   \n",
      "6398       NaN       NaN  NaN     NaN      NaN       NaN      NaN  NaN   \n",
      "\n",
      "          36       37        38       39   40       41       42        43  \\\n",
      "6394     NaN      NaN       NaN      NaN  NaN      NaN      NaN       NaN   \n",
      "6395     NaN      NaN       NaN      NaN  NaN      NaN      NaN       NaN   \n",
      "6396  170938  28409.1  -2.47968  2.38334    j  43035.2  26973.3  -1.02803   \n",
      "6397     NaN      NaN       NaN      NaN  NaN      NaN      NaN       NaN   \n",
      "6398     NaN      NaN       NaN      NaN  NaN      NaN      NaN       NaN   \n",
      "\n",
      "            44   45   46   47   48   49   50   51   52   53   54   55   56  \\\n",
      "6394       NaN  NaN  NaN  NaN  NaN  NaN  NaN  NaN  NaN  NaN  NaN  NaN  NaN   \n",
      "6395       NaN  NaN  NaN  NaN  NaN  NaN  NaN  NaN  NaN  NaN  NaN  NaN  NaN   \n",
      "6396  0.105967       NaN  NaN  NaN  NaN  NaN  NaN  NaN  NaN  NaN  NaN  NaN   \n",
      "6397       NaN  NaN  NaN  NaN  NaN  NaN  NaN  NaN  NaN  NaN  NaN  NaN  NaN   \n",
      "6398       NaN  NaN  NaN  NaN  NaN  NaN  NaN  NaN  NaN  NaN  NaN  NaN  NaN   \n",
      "\n",
      "       57   58   59   60   61   62   63   64   65  \n",
      "6394  NaN  NaN  NaN  NaN  NaN  NaN  NaN  NaN  NaN  \n",
      "6395  NaN  NaN  NaN  NaN  NaN  NaN  NaN  NaN  NaN  \n",
      "6396  NaN  NaN  NaN  NaN  NaN  NaN  NaN  NaN  NaN  \n",
      "6397  NaN  NaN  NaN  NaN  NaN  NaN  NaN  NaN  NaN  \n",
      "6398  NaN  NaN  NaN  NaN  NaN  NaN  NaN  NaN  NaN  \n"
     ]
    }
   ],
   "source": [
    "print(seperated_data.tail())"
   ]
  },
  {
   "cell_type": "markdown",
   "metadata": {
    "id": "IRbXQq6NuYnP"
   },
   "source": [
    "The string split seems to have added an extra empty string at end.\n",
    "\n",
    "The split operation is done using `expand=True` operation which yeilds an even column length dataset with empty values as `NaN`.\n",
    "\n",
    "Next operation is to replace empty string with `NaN`\n"
   ]
  },
  {
   "cell_type": "code",
   "execution_count": 23,
   "metadata": {
    "colab": {
     "base_uri": "https://localhost:8080/"
    },
    "executionInfo": {
     "elapsed": 121828,
     "status": "ok",
     "timestamp": 1615920094654,
     "user": {
      "displayName": "Shivam Balikondwar",
      "photoUrl": "https://lh3.googleusercontent.com/a-/AOh14GhP350413RUyAo9Fb-EoVnG0MwLSZoEOnbJ1cY3=s64",
      "userId": "09326338805341118172"
     },
     "user_tz": -330
    },
    "id": "59p4xsresqkC",
    "outputId": "41667543-c6bd-4040-fded-5837a032f00d"
   },
   "outputs": [
    {
     "name": "stdout",
     "output_type": "stream",
     "text": [
      "    0                         1            2            3         4  5   \\\n",
      "0  354  monojet_Zp2000.0_DM_50.0  2.44336e-05       832841  -1.22431  b   \n",
      "1  354  monojet_Zp2000.0_DM_50.0  2.44336e-05       732115   1.17245  j   \n",
      "2  354  monojet_Zp2000.0_DM_50.0  2.44336e-05  1.05628e+06  -3.06744  j   \n",
      "3  354  monojet_Zp2000.0_DM_50.0  2.44336e-05       631781   1.64181  j   \n",
      "4  354  monojet_Zp2000.0_DM_50.0  2.44336e-05       457316  -1.87536  j   \n",
      "\n",
      "            6       7          8         9  10          11       12        13  \\\n",
      "0       947383  824498  -0.523103   1.64421  j      258722   243675  0.328962   \n",
      "1  1.06946e+06  751597   0.858186  -1.84217  j      457647   110079   2.10287   \n",
      "2       676000  640429    0.33045  0.704554  j  1.2393e+06   602104   1.34324   \n",
      "3       936707  616229   0.973383  -1.56592  j       75998  52304.3  0.905489   \n",
      "4       640313  589524   0.390749   1.23734  j      332790   126272   1.61998   \n",
      "\n",
      "          14   15       16       17        18         19   20       21  \\\n",
      "0    2.25014    j   520092   108590   -2.2473   -1.85679    j   383024   \n",
      "1    2.17501    j  49649.1  30875.2  -1.03189    -1.7992  NaN      NaN   \n",
      "2  -0.550856    j   193865  44825.7  -2.14231  -0.965933    j  28217.2   \n",
      "3  -0.806736  NaN      NaN      NaN       NaN        NaN  NaN      NaN   \n",
      "4   -1.85524  NaN      NaN      NaN       NaN        NaN  NaN      NaN   \n",
      "\n",
      "        22         23        24   25       26       27       28        29  \\\n",
      "0  88405.6    2.14516  -1.95635    j  39507.6  35365.1  0.47046  -1.16445   \n",
      "1      NaN        NaN       NaN  NaN      NaN      NaN      NaN       NaN   \n",
      "2  24926.6  -0.454264  0.516676  NaN      NaN      NaN      NaN       NaN   \n",
      "3      NaN        NaN       NaN  NaN      NaN      NaN      NaN       NaN   \n",
      "4      NaN        NaN       NaN  NaN      NaN      NaN      NaN       NaN   \n",
      "\n",
      "    30      31       32        33        34   35   36   37   38   39   40  \\\n",
      "0    j  225430  26878.2  -2.81608  -2.25938  NaN  NaN  NaN  NaN  NaN  NaN   \n",
      "1  NaN     NaN      NaN       NaN       NaN  NaN  NaN  NaN  NaN  NaN  NaN   \n",
      "2  NaN     NaN      NaN       NaN       NaN  NaN  NaN  NaN  NaN  NaN  NaN   \n",
      "3  NaN     NaN      NaN       NaN       NaN  NaN  NaN  NaN  NaN  NaN  NaN   \n",
      "4  NaN     NaN      NaN       NaN       NaN  NaN  NaN  NaN  NaN  NaN  NaN   \n",
      "\n",
      "    41   42   43   44   45   46   47   48   49   50   51   52   53   54   55  \\\n",
      "0  NaN  NaN  NaN  NaN  NaN  NaN  NaN  NaN  NaN  NaN  NaN  NaN  NaN  NaN  NaN   \n",
      "1  NaN  NaN  NaN  NaN  NaN  NaN  NaN  NaN  NaN  NaN  NaN  NaN  NaN  NaN  NaN   \n",
      "2  NaN  NaN  NaN  NaN  NaN  NaN  NaN  NaN  NaN  NaN  NaN  NaN  NaN  NaN  NaN   \n",
      "3  NaN  NaN  NaN  NaN  NaN  NaN  NaN  NaN  NaN  NaN  NaN  NaN  NaN  NaN  NaN   \n",
      "4  NaN  NaN  NaN  NaN  NaN  NaN  NaN  NaN  NaN  NaN  NaN  NaN  NaN  NaN  NaN   \n",
      "\n",
      "    56   57   58   59   60   61   62   63   64  65  \n",
      "0  NaN  NaN  NaN  NaN  NaN  NaN  NaN  NaN  NaN NaN  \n",
      "1  NaN  NaN  NaN  NaN  NaN  NaN  NaN  NaN  NaN NaN  \n",
      "2  NaN  NaN  NaN  NaN  NaN  NaN  NaN  NaN  NaN NaN  \n",
      "3  NaN  NaN  NaN  NaN  NaN  NaN  NaN  NaN  NaN NaN  \n",
      "4  NaN  NaN  NaN  NaN  NaN  NaN  NaN  NaN  NaN NaN  \n"
     ]
    }
   ],
   "source": [
    "seperated_data.replace('', np.nan, inplace=True)\n",
    "\n",
    "print(seperated_data.head())"
   ]
  },
  {
   "cell_type": "markdown",
   "metadata": {
    "id": "fs1foGRVva9C"
   },
   "source": [
    "A simple observation of the above data suggests:\n",
    "\n",
    "* There are total 66 columns, neglecting the empty string column we get 65 as column length \n",
    "* First 5 column are identifiers for the collisions data.\n",
    "* The remaing 65-5=60 columns will be of the jet collision entries.\n",
    "* Each jet entry is of 5 column length containing `jet name`, `E`, `pt`, `eta` and `phi`\n",
    "* Thus there will in all 60/5=12 `jet` entries possible."
   ]
  },
  {
   "cell_type": "code",
   "execution_count": 24,
   "metadata": {
    "colab": {
     "base_uri": "https://localhost:8080/"
    },
    "executionInfo": {
     "elapsed": 121826,
     "status": "ok",
     "timestamp": 1615920094655,
     "user": {
      "displayName": "Shivam Balikondwar",
      "photoUrl": "https://lh3.googleusercontent.com/a-/AOh14GhP350413RUyAo9Fb-EoVnG0MwLSZoEOnbJ1cY3=s64",
      "userId": "09326338805341118172"
     },
     "user_tz": -330
    },
    "id": "qKOFuZy0HvNW",
    "outputId": "d7fa33a6-0356-42cd-aeb3-d5e71c37b76f"
   },
   "outputs": [
    {
     "name": "stdout",
     "output_type": "stream",
     "text": [
      "['event_id', 'proc_id', 'evnt_wgt', 'met', 'metphi', 'obj0', 'e0', 'pt0', 'eta0', 'phi0', 'obj1', 'e1', 'pt1', 'eta1', 'phi1', 'obj2', 'e2', 'pt2', 'eta2', 'phi2', 'obj3', 'e3', 'pt3', 'eta3', 'phi3', 'obj4', 'e4', 'pt4', 'eta4', 'phi4', 'obj5', 'e5', 'pt5', 'eta5', 'phi5', 'obj6', 'e6', 'pt6', 'eta6', 'phi6', 'obj7', 'e7', 'pt7', 'eta7', 'phi7', 'obj8', 'e8', 'pt8', 'eta8', 'phi8', 'obj9', 'e9', 'pt9', 'eta9', 'phi9', 'obj10', 'e10', 'pt10', 'eta10', 'phi10', 'obj11', 'e11', 'pt11', 'eta11', 'phi11', 'redundant empty string']\n"
     ]
    }
   ],
   "source": [
    "#Constructing header for the above data format\n",
    "\n",
    "header_lst = ['event_id', 'proc_id','evnt_wgt','met','metphi']\n",
    "\n",
    "for i in range(0,12):\n",
    "  obj = 'obj'+str(i)\n",
    "  e1 = 'e'+str(i)\n",
    "  pt = 'pt'+str(i)\n",
    "  eta = 'eta'+str(i)\n",
    "  phi = 'phi'+str(i)\n",
    "  header_lst.append(obj)\n",
    "  header_lst.append(e1)\n",
    "  header_lst.append(pt)\n",
    "  header_lst.append(eta)\n",
    "  header_lst.append(phi)\n",
    "\n",
    "header_lst.append('redundant empty string')\n",
    "\n",
    "print(header_lst)"
   ]
  },
  {
   "cell_type": "code",
   "execution_count": 25,
   "metadata": {
    "colab": {
     "base_uri": "https://localhost:8080/",
     "height": 343
    },
    "executionInfo": {
     "elapsed": 121827,
     "status": "ok",
     "timestamp": 1615920094660,
     "user": {
      "displayName": "Shivam Balikondwar",
      "photoUrl": "https://lh3.googleusercontent.com/a-/AOh14GhP350413RUyAo9Fb-EoVnG0MwLSZoEOnbJ1cY3=s64",
      "userId": "09326338805341118172"
     },
     "user_tz": -330
    },
    "id": "osdn0G-eJ_kM",
    "outputId": "1d18b260-afda-411b-afd1-51ba784713c1"
   },
   "outputs": [
    {
     "data": {
      "text/html": [
       "<div>\n",
       "<style scoped>\n",
       "    .dataframe tbody tr th:only-of-type {\n",
       "        vertical-align: middle;\n",
       "    }\n",
       "\n",
       "    .dataframe tbody tr th {\n",
       "        vertical-align: top;\n",
       "    }\n",
       "\n",
       "    .dataframe thead th {\n",
       "        text-align: right;\n",
       "    }\n",
       "</style>\n",
       "<table border=\"1\" class=\"dataframe\">\n",
       "  <thead>\n",
       "    <tr style=\"text-align: right;\">\n",
       "      <th></th>\n",
       "      <th>event_id</th>\n",
       "      <th>proc_id</th>\n",
       "      <th>evnt_wgt</th>\n",
       "      <th>met</th>\n",
       "      <th>metphi</th>\n",
       "      <th>obj0</th>\n",
       "      <th>e0</th>\n",
       "      <th>pt0</th>\n",
       "      <th>eta0</th>\n",
       "      <th>phi0</th>\n",
       "      <th>obj1</th>\n",
       "      <th>e1</th>\n",
       "      <th>pt1</th>\n",
       "      <th>eta1</th>\n",
       "      <th>phi1</th>\n",
       "      <th>obj2</th>\n",
       "      <th>e2</th>\n",
       "      <th>pt2</th>\n",
       "      <th>eta2</th>\n",
       "      <th>phi2</th>\n",
       "      <th>obj3</th>\n",
       "      <th>e3</th>\n",
       "      <th>pt3</th>\n",
       "      <th>eta3</th>\n",
       "      <th>phi3</th>\n",
       "      <th>obj4</th>\n",
       "      <th>e4</th>\n",
       "      <th>pt4</th>\n",
       "      <th>eta4</th>\n",
       "      <th>phi4</th>\n",
       "      <th>obj5</th>\n",
       "      <th>e5</th>\n",
       "      <th>pt5</th>\n",
       "      <th>eta5</th>\n",
       "      <th>phi5</th>\n",
       "      <th>obj6</th>\n",
       "      <th>e6</th>\n",
       "      <th>pt6</th>\n",
       "      <th>eta6</th>\n",
       "      <th>phi6</th>\n",
       "      <th>obj7</th>\n",
       "      <th>e7</th>\n",
       "      <th>pt7</th>\n",
       "      <th>eta7</th>\n",
       "      <th>phi7</th>\n",
       "      <th>obj8</th>\n",
       "      <th>e8</th>\n",
       "      <th>pt8</th>\n",
       "      <th>eta8</th>\n",
       "      <th>phi8</th>\n",
       "      <th>obj9</th>\n",
       "      <th>e9</th>\n",
       "      <th>pt9</th>\n",
       "      <th>eta9</th>\n",
       "      <th>phi9</th>\n",
       "      <th>obj10</th>\n",
       "      <th>e10</th>\n",
       "      <th>pt10</th>\n",
       "      <th>eta10</th>\n",
       "      <th>phi10</th>\n",
       "      <th>obj11</th>\n",
       "      <th>e11</th>\n",
       "      <th>pt11</th>\n",
       "      <th>eta11</th>\n",
       "      <th>phi11</th>\n",
       "      <th>redundant empty string</th>\n",
       "    </tr>\n",
       "  </thead>\n",
       "  <tbody>\n",
       "    <tr>\n",
       "      <th>0</th>\n",
       "      <td>354</td>\n",
       "      <td>monojet_Zp2000.0_DM_50.0</td>\n",
       "      <td>2.44336e-05</td>\n",
       "      <td>832841</td>\n",
       "      <td>-1.22431</td>\n",
       "      <td>b</td>\n",
       "      <td>947383</td>\n",
       "      <td>824498</td>\n",
       "      <td>-0.523103</td>\n",
       "      <td>1.64421</td>\n",
       "      <td>j</td>\n",
       "      <td>258722</td>\n",
       "      <td>243675</td>\n",
       "      <td>0.328962</td>\n",
       "      <td>2.25014</td>\n",
       "      <td>j</td>\n",
       "      <td>520092</td>\n",
       "      <td>108590</td>\n",
       "      <td>-2.2473</td>\n",
       "      <td>-1.85679</td>\n",
       "      <td>j</td>\n",
       "      <td>383024</td>\n",
       "      <td>88405.6</td>\n",
       "      <td>2.14516</td>\n",
       "      <td>-1.95635</td>\n",
       "      <td>j</td>\n",
       "      <td>39507.6</td>\n",
       "      <td>35365.1</td>\n",
       "      <td>0.47046</td>\n",
       "      <td>-1.16445</td>\n",
       "      <td>j</td>\n",
       "      <td>225430</td>\n",
       "      <td>26878.2</td>\n",
       "      <td>-2.81608</td>\n",
       "      <td>-2.25938</td>\n",
       "      <td>NaN</td>\n",
       "      <td>NaN</td>\n",
       "      <td>NaN</td>\n",
       "      <td>NaN</td>\n",
       "      <td>NaN</td>\n",
       "      <td>NaN</td>\n",
       "      <td>NaN</td>\n",
       "      <td>NaN</td>\n",
       "      <td>NaN</td>\n",
       "      <td>NaN</td>\n",
       "      <td>NaN</td>\n",
       "      <td>NaN</td>\n",
       "      <td>NaN</td>\n",
       "      <td>NaN</td>\n",
       "      <td>NaN</td>\n",
       "      <td>NaN</td>\n",
       "      <td>NaN</td>\n",
       "      <td>NaN</td>\n",
       "      <td>NaN</td>\n",
       "      <td>NaN</td>\n",
       "      <td>NaN</td>\n",
       "      <td>NaN</td>\n",
       "      <td>NaN</td>\n",
       "      <td>NaN</td>\n",
       "      <td>NaN</td>\n",
       "      <td>NaN</td>\n",
       "      <td>NaN</td>\n",
       "      <td>NaN</td>\n",
       "      <td>NaN</td>\n",
       "      <td>NaN</td>\n",
       "      <td>NaN</td>\n",
       "    </tr>\n",
       "    <tr>\n",
       "      <th>1</th>\n",
       "      <td>354</td>\n",
       "      <td>monojet_Zp2000.0_DM_50.0</td>\n",
       "      <td>2.44336e-05</td>\n",
       "      <td>732115</td>\n",
       "      <td>1.17245</td>\n",
       "      <td>j</td>\n",
       "      <td>1.06946e+06</td>\n",
       "      <td>751597</td>\n",
       "      <td>0.858186</td>\n",
       "      <td>-1.84217</td>\n",
       "      <td>j</td>\n",
       "      <td>457647</td>\n",
       "      <td>110079</td>\n",
       "      <td>2.10287</td>\n",
       "      <td>2.17501</td>\n",
       "      <td>j</td>\n",
       "      <td>49649.1</td>\n",
       "      <td>30875.2</td>\n",
       "      <td>-1.03189</td>\n",
       "      <td>-1.7992</td>\n",
       "      <td>NaN</td>\n",
       "      <td>NaN</td>\n",
       "      <td>NaN</td>\n",
       "      <td>NaN</td>\n",
       "      <td>NaN</td>\n",
       "      <td>NaN</td>\n",
       "      <td>NaN</td>\n",
       "      <td>NaN</td>\n",
       "      <td>NaN</td>\n",
       "      <td>NaN</td>\n",
       "      <td>NaN</td>\n",
       "      <td>NaN</td>\n",
       "      <td>NaN</td>\n",
       "      <td>NaN</td>\n",
       "      <td>NaN</td>\n",
       "      <td>NaN</td>\n",
       "      <td>NaN</td>\n",
       "      <td>NaN</td>\n",
       "      <td>NaN</td>\n",
       "      <td>NaN</td>\n",
       "      <td>NaN</td>\n",
       "      <td>NaN</td>\n",
       "      <td>NaN</td>\n",
       "      <td>NaN</td>\n",
       "      <td>NaN</td>\n",
       "      <td>NaN</td>\n",
       "      <td>NaN</td>\n",
       "      <td>NaN</td>\n",
       "      <td>NaN</td>\n",
       "      <td>NaN</td>\n",
       "      <td>NaN</td>\n",
       "      <td>NaN</td>\n",
       "      <td>NaN</td>\n",
       "      <td>NaN</td>\n",
       "      <td>NaN</td>\n",
       "      <td>NaN</td>\n",
       "      <td>NaN</td>\n",
       "      <td>NaN</td>\n",
       "      <td>NaN</td>\n",
       "      <td>NaN</td>\n",
       "      <td>NaN</td>\n",
       "      <td>NaN</td>\n",
       "      <td>NaN</td>\n",
       "      <td>NaN</td>\n",
       "      <td>NaN</td>\n",
       "      <td>NaN</td>\n",
       "    </tr>\n",
       "    <tr>\n",
       "      <th>2</th>\n",
       "      <td>354</td>\n",
       "      <td>monojet_Zp2000.0_DM_50.0</td>\n",
       "      <td>2.44336e-05</td>\n",
       "      <td>1.05628e+06</td>\n",
       "      <td>-3.06744</td>\n",
       "      <td>j</td>\n",
       "      <td>676000</td>\n",
       "      <td>640429</td>\n",
       "      <td>0.33045</td>\n",
       "      <td>0.704554</td>\n",
       "      <td>j</td>\n",
       "      <td>1.2393e+06</td>\n",
       "      <td>602104</td>\n",
       "      <td>1.34324</td>\n",
       "      <td>-0.550856</td>\n",
       "      <td>j</td>\n",
       "      <td>193865</td>\n",
       "      <td>44825.7</td>\n",
       "      <td>-2.14231</td>\n",
       "      <td>-0.965933</td>\n",
       "      <td>j</td>\n",
       "      <td>28217.2</td>\n",
       "      <td>24926.6</td>\n",
       "      <td>-0.454264</td>\n",
       "      <td>0.516676</td>\n",
       "      <td>NaN</td>\n",
       "      <td>NaN</td>\n",
       "      <td>NaN</td>\n",
       "      <td>NaN</td>\n",
       "      <td>NaN</td>\n",
       "      <td>NaN</td>\n",
       "      <td>NaN</td>\n",
       "      <td>NaN</td>\n",
       "      <td>NaN</td>\n",
       "      <td>NaN</td>\n",
       "      <td>NaN</td>\n",
       "      <td>NaN</td>\n",
       "      <td>NaN</td>\n",
       "      <td>NaN</td>\n",
       "      <td>NaN</td>\n",
       "      <td>NaN</td>\n",
       "      <td>NaN</td>\n",
       "      <td>NaN</td>\n",
       "      <td>NaN</td>\n",
       "      <td>NaN</td>\n",
       "      <td>NaN</td>\n",
       "      <td>NaN</td>\n",
       "      <td>NaN</td>\n",
       "      <td>NaN</td>\n",
       "      <td>NaN</td>\n",
       "      <td>NaN</td>\n",
       "      <td>NaN</td>\n",
       "      <td>NaN</td>\n",
       "      <td>NaN</td>\n",
       "      <td>NaN</td>\n",
       "      <td>NaN</td>\n",
       "      <td>NaN</td>\n",
       "      <td>NaN</td>\n",
       "      <td>NaN</td>\n",
       "      <td>NaN</td>\n",
       "      <td>NaN</td>\n",
       "      <td>NaN</td>\n",
       "      <td>NaN</td>\n",
       "      <td>NaN</td>\n",
       "      <td>NaN</td>\n",
       "      <td>NaN</td>\n",
       "    </tr>\n",
       "    <tr>\n",
       "      <th>3</th>\n",
       "      <td>354</td>\n",
       "      <td>monojet_Zp2000.0_DM_50.0</td>\n",
       "      <td>2.44336e-05</td>\n",
       "      <td>631781</td>\n",
       "      <td>1.64181</td>\n",
       "      <td>j</td>\n",
       "      <td>936707</td>\n",
       "      <td>616229</td>\n",
       "      <td>0.973383</td>\n",
       "      <td>-1.56592</td>\n",
       "      <td>j</td>\n",
       "      <td>75998</td>\n",
       "      <td>52304.3</td>\n",
       "      <td>0.905489</td>\n",
       "      <td>-0.806736</td>\n",
       "      <td>NaN</td>\n",
       "      <td>NaN</td>\n",
       "      <td>NaN</td>\n",
       "      <td>NaN</td>\n",
       "      <td>NaN</td>\n",
       "      <td>NaN</td>\n",
       "      <td>NaN</td>\n",
       "      <td>NaN</td>\n",
       "      <td>NaN</td>\n",
       "      <td>NaN</td>\n",
       "      <td>NaN</td>\n",
       "      <td>NaN</td>\n",
       "      <td>NaN</td>\n",
       "      <td>NaN</td>\n",
       "      <td>NaN</td>\n",
       "      <td>NaN</td>\n",
       "      <td>NaN</td>\n",
       "      <td>NaN</td>\n",
       "      <td>NaN</td>\n",
       "      <td>NaN</td>\n",
       "      <td>NaN</td>\n",
       "      <td>NaN</td>\n",
       "      <td>NaN</td>\n",
       "      <td>NaN</td>\n",
       "      <td>NaN</td>\n",
       "      <td>NaN</td>\n",
       "      <td>NaN</td>\n",
       "      <td>NaN</td>\n",
       "      <td>NaN</td>\n",
       "      <td>NaN</td>\n",
       "      <td>NaN</td>\n",
       "      <td>NaN</td>\n",
       "      <td>NaN</td>\n",
       "      <td>NaN</td>\n",
       "      <td>NaN</td>\n",
       "      <td>NaN</td>\n",
       "      <td>NaN</td>\n",
       "      <td>NaN</td>\n",
       "      <td>NaN</td>\n",
       "      <td>NaN</td>\n",
       "      <td>NaN</td>\n",
       "      <td>NaN</td>\n",
       "      <td>NaN</td>\n",
       "      <td>NaN</td>\n",
       "      <td>NaN</td>\n",
       "      <td>NaN</td>\n",
       "      <td>NaN</td>\n",
       "      <td>NaN</td>\n",
       "      <td>NaN</td>\n",
       "      <td>NaN</td>\n",
       "      <td>NaN</td>\n",
       "    </tr>\n",
       "    <tr>\n",
       "      <th>4</th>\n",
       "      <td>354</td>\n",
       "      <td>monojet_Zp2000.0_DM_50.0</td>\n",
       "      <td>2.44336e-05</td>\n",
       "      <td>457316</td>\n",
       "      <td>-1.87536</td>\n",
       "      <td>j</td>\n",
       "      <td>640313</td>\n",
       "      <td>589524</td>\n",
       "      <td>0.390749</td>\n",
       "      <td>1.23734</td>\n",
       "      <td>j</td>\n",
       "      <td>332790</td>\n",
       "      <td>126272</td>\n",
       "      <td>1.61998</td>\n",
       "      <td>-1.85524</td>\n",
       "      <td>NaN</td>\n",
       "      <td>NaN</td>\n",
       "      <td>NaN</td>\n",
       "      <td>NaN</td>\n",
       "      <td>NaN</td>\n",
       "      <td>NaN</td>\n",
       "      <td>NaN</td>\n",
       "      <td>NaN</td>\n",
       "      <td>NaN</td>\n",
       "      <td>NaN</td>\n",
       "      <td>NaN</td>\n",
       "      <td>NaN</td>\n",
       "      <td>NaN</td>\n",
       "      <td>NaN</td>\n",
       "      <td>NaN</td>\n",
       "      <td>NaN</td>\n",
       "      <td>NaN</td>\n",
       "      <td>NaN</td>\n",
       "      <td>NaN</td>\n",
       "      <td>NaN</td>\n",
       "      <td>NaN</td>\n",
       "      <td>NaN</td>\n",
       "      <td>NaN</td>\n",
       "      <td>NaN</td>\n",
       "      <td>NaN</td>\n",
       "      <td>NaN</td>\n",
       "      <td>NaN</td>\n",
       "      <td>NaN</td>\n",
       "      <td>NaN</td>\n",
       "      <td>NaN</td>\n",
       "      <td>NaN</td>\n",
       "      <td>NaN</td>\n",
       "      <td>NaN</td>\n",
       "      <td>NaN</td>\n",
       "      <td>NaN</td>\n",
       "      <td>NaN</td>\n",
       "      <td>NaN</td>\n",
       "      <td>NaN</td>\n",
       "      <td>NaN</td>\n",
       "      <td>NaN</td>\n",
       "      <td>NaN</td>\n",
       "      <td>NaN</td>\n",
       "      <td>NaN</td>\n",
       "      <td>NaN</td>\n",
       "      <td>NaN</td>\n",
       "      <td>NaN</td>\n",
       "      <td>NaN</td>\n",
       "      <td>NaN</td>\n",
       "      <td>NaN</td>\n",
       "      <td>NaN</td>\n",
       "      <td>NaN</td>\n",
       "    </tr>\n",
       "  </tbody>\n",
       "</table>\n",
       "</div>"
      ],
      "text/plain": [
       "  event_id                   proc_id     evnt_wgt          met    metphi obj0  \\\n",
       "0      354  monojet_Zp2000.0_DM_50.0  2.44336e-05       832841  -1.22431    b   \n",
       "1      354  monojet_Zp2000.0_DM_50.0  2.44336e-05       732115   1.17245    j   \n",
       "2      354  monojet_Zp2000.0_DM_50.0  2.44336e-05  1.05628e+06  -3.06744    j   \n",
       "3      354  monojet_Zp2000.0_DM_50.0  2.44336e-05       631781   1.64181    j   \n",
       "4      354  monojet_Zp2000.0_DM_50.0  2.44336e-05       457316  -1.87536    j   \n",
       "\n",
       "            e0     pt0       eta0      phi0 obj1          e1      pt1  \\\n",
       "0       947383  824498  -0.523103   1.64421    j      258722   243675   \n",
       "1  1.06946e+06  751597   0.858186  -1.84217    j      457647   110079   \n",
       "2       676000  640429    0.33045  0.704554    j  1.2393e+06   602104   \n",
       "3       936707  616229   0.973383  -1.56592    j       75998  52304.3   \n",
       "4       640313  589524   0.390749   1.23734    j      332790   126272   \n",
       "\n",
       "       eta1       phi1 obj2       e2      pt2      eta2       phi2 obj3  \\\n",
       "0  0.328962    2.25014    j   520092   108590   -2.2473   -1.85679    j   \n",
       "1   2.10287    2.17501    j  49649.1  30875.2  -1.03189    -1.7992  NaN   \n",
       "2   1.34324  -0.550856    j   193865  44825.7  -2.14231  -0.965933    j   \n",
       "3  0.905489  -0.806736  NaN      NaN      NaN       NaN        NaN  NaN   \n",
       "4   1.61998   -1.85524  NaN      NaN      NaN       NaN        NaN  NaN   \n",
       "\n",
       "        e3      pt3       eta3      phi3 obj4       e4      pt4     eta4  \\\n",
       "0   383024  88405.6    2.14516  -1.95635    j  39507.6  35365.1  0.47046   \n",
       "1      NaN      NaN        NaN       NaN  NaN      NaN      NaN      NaN   \n",
       "2  28217.2  24926.6  -0.454264  0.516676  NaN      NaN      NaN      NaN   \n",
       "3      NaN      NaN        NaN       NaN  NaN      NaN      NaN      NaN   \n",
       "4      NaN      NaN        NaN       NaN  NaN      NaN      NaN      NaN   \n",
       "\n",
       "       phi4 obj5      e5      pt5      eta5      phi5 obj6   e6  pt6 eta6  \\\n",
       "0  -1.16445    j  225430  26878.2  -2.81608  -2.25938  NaN  NaN  NaN  NaN   \n",
       "1       NaN  NaN     NaN      NaN       NaN       NaN  NaN  NaN  NaN  NaN   \n",
       "2       NaN  NaN     NaN      NaN       NaN       NaN  NaN  NaN  NaN  NaN   \n",
       "3       NaN  NaN     NaN      NaN       NaN       NaN  NaN  NaN  NaN  NaN   \n",
       "4       NaN  NaN     NaN      NaN       NaN       NaN  NaN  NaN  NaN  NaN   \n",
       "\n",
       "  phi6 obj7   e7  pt7 eta7 phi7 obj8   e8  pt8 eta8 phi8 obj9   e9  pt9 eta9  \\\n",
       "0  NaN  NaN  NaN  NaN  NaN  NaN  NaN  NaN  NaN  NaN  NaN  NaN  NaN  NaN  NaN   \n",
       "1  NaN  NaN  NaN  NaN  NaN  NaN  NaN  NaN  NaN  NaN  NaN  NaN  NaN  NaN  NaN   \n",
       "2  NaN  NaN  NaN  NaN  NaN  NaN  NaN  NaN  NaN  NaN  NaN  NaN  NaN  NaN  NaN   \n",
       "3  NaN  NaN  NaN  NaN  NaN  NaN  NaN  NaN  NaN  NaN  NaN  NaN  NaN  NaN  NaN   \n",
       "4  NaN  NaN  NaN  NaN  NaN  NaN  NaN  NaN  NaN  NaN  NaN  NaN  NaN  NaN  NaN   \n",
       "\n",
       "  phi9 obj10  e10 pt10 eta10 phi10 obj11  e11 pt11 eta11 phi11  \\\n",
       "0  NaN   NaN  NaN  NaN   NaN   NaN   NaN  NaN  NaN   NaN   NaN   \n",
       "1  NaN   NaN  NaN  NaN   NaN   NaN   NaN  NaN  NaN   NaN   NaN   \n",
       "2  NaN   NaN  NaN  NaN   NaN   NaN   NaN  NaN  NaN   NaN   NaN   \n",
       "3  NaN   NaN  NaN  NaN   NaN   NaN   NaN  NaN  NaN   NaN   NaN   \n",
       "4  NaN   NaN  NaN  NaN   NaN   NaN   NaN  NaN  NaN   NaN   NaN   \n",
       "\n",
       "   redundant empty string  \n",
       "0                     NaN  \n",
       "1                     NaN  \n",
       "2                     NaN  \n",
       "3                     NaN  \n",
       "4                     NaN  "
      ]
     },
     "execution_count": 25,
     "metadata": {},
     "output_type": "execute_result"
    }
   ],
   "source": [
    "seperated_data.columns = header_lst\n",
    "\n",
    "seperated_data.head()"
   ]
  },
  {
   "cell_type": "markdown",
   "metadata": {
    "id": "eE9-1s5SdGKc"
   },
   "source": [
    "Next step is to calculate all the `j` jets in the dataset belonging to an event.\n",
    "\n",
    "Followed by populating table of `e`, `phi`, `eta` and `pt` values from the above extracted dataset."
   ]
  },
  {
   "cell_type": "code",
   "execution_count": 26,
   "metadata": {
    "id": "e0HjRq-MKRcT"
   },
   "outputs": [],
   "source": [
    "jet_entries = ['obj','e','pt','eta','phi']\n",
    "\n",
    "def getlist(dt):\n",
    "  n=0\n",
    "  list_of_entries = []\n",
    "  while n < 12:\n",
    "    entry_in_row = []\n",
    "    obj_entry = jet_entries[0]+str(n)\n",
    "\n",
    "    #If there is no jet entry then neglect the collision event\n",
    "    if dt[obj_entry] == np.nan:\n",
    "      return None\n",
    "\n",
    "    #Only select entries for 'j' jet.\n",
    "    if dt[obj_entry] == 'j':\n",
    "\n",
    "      #Each entry is followed by 4 variables E, pt, eta, phi\n",
    "      for i in range(1,5):\n",
    "        entry_in_row.append(dt[str(jet_entries[i]+str(n))])\n",
    "      list_of_entries.append(entry_in_row)\n",
    "    n+=1\n",
    "  return list_of_entries\n",
    "\n",
    "\n",
    "#nn=0\n",
    "final_dataset = pd.DataFrame()\n",
    "\n",
    "for ind in range(0, len(seperated_data)):\n",
    "  \n",
    "  #Get all entries for a row\n",
    "  list_of_entries = getlist(seperated_data.iloc[ind])\n",
    "  \n",
    "  #There is no jet entry\n",
    "  if list_of_entries is None:\n",
    "    continue\n",
    "\n",
    "  #Insert all jet entries found in a row\n",
    "  for i in list_of_entries:\n",
    "    #i.insert(0,int(nn))\n",
    "    temp = pd.Series(i, index=jet_entries[1:])\n",
    "    id_entries = seperated_data[header_lst[0:5]].iloc[ind]\n",
    "    entry = pd.concat([temp, id_entries])\n",
    "    final_dataset = final_dataset.append(pd.Series(entry), ignore_index=True)"
   ]
  },
  {
   "cell_type": "code",
   "execution_count": 27,
   "metadata": {
    "colab": {
     "base_uri": "https://localhost:8080/"
    },
    "executionInfo": {
     "elapsed": 946,
     "status": "ok",
     "timestamp": 1615921227112,
     "user": {
      "displayName": "Shivam Balikondwar",
      "photoUrl": "https://lh3.googleusercontent.com/a-/AOh14GhP350413RUyAo9Fb-EoVnG0MwLSZoEOnbJ1cY3=s64",
      "userId": "09326338805341118172"
     },
     "user_tz": -330
    },
    "id": "ZKteh6DRzyZO",
    "outputId": "8c2403ec-be99-41e9-a898-ba9809de10a8"
   },
   "outputs": [
    {
     "name": "stdout",
     "output_type": "stream",
     "text": [
      "         e       eta event_id     evnt_wgt     met    metphi       phi  \\\n",
      "0   258722  0.328962      354  2.44336e-05  832841  -1.22431   2.25014   \n",
      "1   520092   -2.2473      354  2.44336e-05  832841  -1.22431  -1.85679   \n",
      "2   383024   2.14516      354  2.44336e-05  832841  -1.22431  -1.95635   \n",
      "3  39507.6   0.47046      354  2.44336e-05  832841  -1.22431  -1.16445   \n",
      "4   225430  -2.81608      354  2.44336e-05  832841  -1.22431  -2.25938   \n",
      "\n",
      "                    proc_id       pt  \n",
      "0  monojet_Zp2000.0_DM_50.0   243675  \n",
      "1  monojet_Zp2000.0_DM_50.0   108590  \n",
      "2  monojet_Zp2000.0_DM_50.0  88405.6  \n",
      "3  monojet_Zp2000.0_DM_50.0  35365.1  \n",
      "4  monojet_Zp2000.0_DM_50.0  26878.2  \n"
     ]
    }
   ],
   "source": [
    "print(final_dataset.head())"
   ]
  },
  {
   "cell_type": "code",
   "execution_count": 28,
   "metadata": {
    "colab": {
     "base_uri": "https://localhost:8080/"
    },
    "executionInfo": {
     "elapsed": 733,
     "status": "ok",
     "timestamp": 1615921858340,
     "user": {
      "displayName": "Shivam Balikondwar",
      "photoUrl": "https://lh3.googleusercontent.com/a-/AOh14GhP350413RUyAo9Fb-EoVnG0MwLSZoEOnbJ1cY3=s64",
      "userId": "09326338805341118172"
     },
     "user_tz": -330
    },
    "id": "-PlnYApQYMhj",
    "outputId": "64575397-ac5a-4d99-f06d-6a3a75f9791d"
   },
   "outputs": [
    {
     "name": "stdout",
     "output_type": "stream",
     "text": [
      "1\n",
      "1\n",
      "6366\n",
      "6368\n",
      "1\n"
     ]
    },
    {
     "data": {
      "text/plain": [
       "22661"
      ]
     },
     "execution_count": 28,
     "metadata": {},
     "output_type": "execute_result"
    }
   ],
   "source": [
    "print('no of unique event entries:', final_dataset['event_id'].nunique())\n",
    "print('no of unique event weight entries:',final_dataset['evnt_wgt'].nunique())\n",
    "print('no of unique met entries:', final_dataset['met'].nunique())\n",
    "print('no of unique metphi entries:', final_dataset['metphi'].nunique())\n",
    "print('no of unique proc_id entries:', final_dataset['proc_id'].nunique())\n",
    "\n",
    "len(final_dataset)"
   ]
  },
  {
   "cell_type": "markdown",
   "metadata": {
    "id": "D_nPLz5Rd9w7"
   },
   "source": [
    "Storing data as pickled format for applying autoencoder."
   ]
  },
  {
   "cell_type": "code",
   "execution_count": 29,
   "metadata": {
    "id": "eCKJ3cljKRlZ"
   },
   "outputs": [],
   "source": [
    "dataset = final_dataset.to_pickle(main_dir+'/processed_datalabel.pkl')"
   ]
  },
  {
   "cell_type": "code",
   "execution_count": 30,
   "metadata": {
    "id": "c1h_KgjOtgqc"
   },
   "outputs": [],
   "source": [
    "unpickled_data = pd.read_pickle(main_dir+'/processed_datalabel.pkl')"
   ]
  },
  {
   "cell_type": "markdown",
   "metadata": {
    "id": "LPn1qxiugWqa"
   },
   "source": [
    "Testing saved file"
   ]
  },
  {
   "cell_type": "code",
   "execution_count": 31,
   "metadata": {
    "colab": {
     "base_uri": "https://localhost:8080/",
     "height": 204
    },
    "executionInfo": {
     "elapsed": 649,
     "status": "ok",
     "timestamp": 1615923587357,
     "user": {
      "displayName": "Shivam Balikondwar",
      "photoUrl": "https://lh3.googleusercontent.com/a-/AOh14GhP350413RUyAo9Fb-EoVnG0MwLSZoEOnbJ1cY3=s64",
      "userId": "09326338805341118172"
     },
     "user_tz": -330
    },
    "id": "vKcjuwSUCBPn",
    "outputId": "daeb67fd-c2fd-4f11-96c2-10079c435283"
   },
   "outputs": [
    {
     "data": {
      "text/html": [
       "<div>\n",
       "<style scoped>\n",
       "    .dataframe tbody tr th:only-of-type {\n",
       "        vertical-align: middle;\n",
       "    }\n",
       "\n",
       "    .dataframe tbody tr th {\n",
       "        vertical-align: top;\n",
       "    }\n",
       "\n",
       "    .dataframe thead th {\n",
       "        text-align: right;\n",
       "    }\n",
       "</style>\n",
       "<table border=\"1\" class=\"dataframe\">\n",
       "  <thead>\n",
       "    <tr style=\"text-align: right;\">\n",
       "      <th></th>\n",
       "      <th>e</th>\n",
       "      <th>eta</th>\n",
       "      <th>event_id</th>\n",
       "      <th>evnt_wgt</th>\n",
       "      <th>met</th>\n",
       "      <th>metphi</th>\n",
       "      <th>phi</th>\n",
       "      <th>proc_id</th>\n",
       "      <th>pt</th>\n",
       "    </tr>\n",
       "  </thead>\n",
       "  <tbody>\n",
       "    <tr>\n",
       "      <th>0</th>\n",
       "      <td>258722</td>\n",
       "      <td>0.328962</td>\n",
       "      <td>354</td>\n",
       "      <td>2.44336e-05</td>\n",
       "      <td>832841</td>\n",
       "      <td>-1.22431</td>\n",
       "      <td>2.25014</td>\n",
       "      <td>monojet_Zp2000.0_DM_50.0</td>\n",
       "      <td>243675</td>\n",
       "    </tr>\n",
       "    <tr>\n",
       "      <th>1</th>\n",
       "      <td>520092</td>\n",
       "      <td>-2.2473</td>\n",
       "      <td>354</td>\n",
       "      <td>2.44336e-05</td>\n",
       "      <td>832841</td>\n",
       "      <td>-1.22431</td>\n",
       "      <td>-1.85679</td>\n",
       "      <td>monojet_Zp2000.0_DM_50.0</td>\n",
       "      <td>108590</td>\n",
       "    </tr>\n",
       "    <tr>\n",
       "      <th>2</th>\n",
       "      <td>383024</td>\n",
       "      <td>2.14516</td>\n",
       "      <td>354</td>\n",
       "      <td>2.44336e-05</td>\n",
       "      <td>832841</td>\n",
       "      <td>-1.22431</td>\n",
       "      <td>-1.95635</td>\n",
       "      <td>monojet_Zp2000.0_DM_50.0</td>\n",
       "      <td>88405.6</td>\n",
       "    </tr>\n",
       "    <tr>\n",
       "      <th>3</th>\n",
       "      <td>39507.6</td>\n",
       "      <td>0.47046</td>\n",
       "      <td>354</td>\n",
       "      <td>2.44336e-05</td>\n",
       "      <td>832841</td>\n",
       "      <td>-1.22431</td>\n",
       "      <td>-1.16445</td>\n",
       "      <td>monojet_Zp2000.0_DM_50.0</td>\n",
       "      <td>35365.1</td>\n",
       "    </tr>\n",
       "    <tr>\n",
       "      <th>4</th>\n",
       "      <td>225430</td>\n",
       "      <td>-2.81608</td>\n",
       "      <td>354</td>\n",
       "      <td>2.44336e-05</td>\n",
       "      <td>832841</td>\n",
       "      <td>-1.22431</td>\n",
       "      <td>-2.25938</td>\n",
       "      <td>monojet_Zp2000.0_DM_50.0</td>\n",
       "      <td>26878.2</td>\n",
       "    </tr>\n",
       "  </tbody>\n",
       "</table>\n",
       "</div>"
      ],
      "text/plain": [
       "         e       eta event_id     evnt_wgt     met    metphi       phi  \\\n",
       "0   258722  0.328962      354  2.44336e-05  832841  -1.22431   2.25014   \n",
       "1   520092   -2.2473      354  2.44336e-05  832841  -1.22431  -1.85679   \n",
       "2   383024   2.14516      354  2.44336e-05  832841  -1.22431  -1.95635   \n",
       "3  39507.6   0.47046      354  2.44336e-05  832841  -1.22431  -1.16445   \n",
       "4   225430  -2.81608      354  2.44336e-05  832841  -1.22431  -2.25938   \n",
       "\n",
       "                    proc_id       pt  \n",
       "0  monojet_Zp2000.0_DM_50.0   243675  \n",
       "1  monojet_Zp2000.0_DM_50.0   108590  \n",
       "2  monojet_Zp2000.0_DM_50.0  88405.6  \n",
       "3  monojet_Zp2000.0_DM_50.0  35365.1  \n",
       "4  monojet_Zp2000.0_DM_50.0  26878.2  "
      ]
     },
     "execution_count": 31,
     "metadata": {},
     "output_type": "execute_result"
    }
   ],
   "source": [
    "unpickled_data.head()"
   ]
  },
  {
   "cell_type": "code",
   "execution_count": 32,
   "metadata": {
    "colab": {
     "base_uri": "https://localhost:8080/"
    },
    "executionInfo": {
     "elapsed": 629,
     "status": "ok",
     "timestamp": 1615923588837,
     "user": {
      "displayName": "Shivam Balikondwar",
      "photoUrl": "https://lh3.googleusercontent.com/a-/AOh14GhP350413RUyAo9Fb-EoVnG0MwLSZoEOnbJ1cY3=s64",
      "userId": "09326338805341118172"
     },
     "user_tz": -330
    },
    "id": "liMWKk0neZwN",
    "outputId": "a96d798b-4eb4-4003-edbc-006a19967e6b"
   },
   "outputs": [],
   "source": [
    "if 'proc_id' in unpickled_data:\n",
    "  unpickled_data = unpickled_data.drop(columns=['proc_id'])\n",
    "\n",
    "unpickled_data = unpickled_data.astype('float64')\n",
    "\n",
    "#Convert to GeV\n",
    "unpickled_data['e'] = unpickled_data['e'] / 1000\n",
    "unpickled_data['pt'] = unpickled_data['pt'] / 1000"
   ]
  }
 ],
 "metadata": {
  "colab": {
   "authorship_tag": "ABX9TyMPfWjLfu/uFV45gIuWEW4D",
   "collapsed_sections": [],
   "name": "datapreprocessing.ipynb",
   "provenance": []
  },
  "kernelspec": {
   "display_name": "Python 3",
   "language": "python",
   "name": "python3"
  },
  "language_info": {
   "codemirror_mode": {
    "name": "ipython",
    "version": 3
   },
   "file_extension": ".py",
   "mimetype": "text/x-python",
   "name": "python",
   "nbconvert_exporter": "python",
   "pygments_lexer": "ipython3",
   "version": "3.8.5"
  }
 },
 "nbformat": 4,
 "nbformat_minor": 1
}
