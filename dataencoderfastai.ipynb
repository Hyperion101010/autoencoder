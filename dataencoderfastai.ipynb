{
 "cells": [
  {
   "cell_type": "code",
   "execution_count": 1,
   "metadata": {
    "colab": {
     "base_uri": "https://localhost:8080/"
    },
    "executionInfo": {
     "elapsed": 6462,
     "status": "ok",
     "timestamp": 1615989346817,
     "user": {
      "displayName": "Shivam Balikondwar",
      "photoUrl": "https://lh3.googleusercontent.com/a-/AOh14GhP350413RUyAo9Fb-EoVnG0MwLSZoEOnbJ1cY3=s64",
      "userId": "09326338805341118172"
     },
     "user_tz": -330
    },
    "id": "RAWxBHYLvTB0",
    "outputId": "d8439098-d8f9-4c7e-9186-d6fe3c63e714"
   },
   "outputs": [
    {
     "name": "stdout",
     "output_type": "stream",
     "text": [
      "Requirement already satisfied: corner in ./jenv/lib/python3.8/site-packages (2.2.1)\r\n",
      "Requirement already satisfied: matplotlib>=2.1 in ./jenv/lib/python3.8/site-packages (from corner) (3.3.4)\r\n",
      "Requirement already satisfied: pyparsing!=2.0.4,!=2.1.2,!=2.1.6,>=2.0.3 in ./jenv/lib/python3.8/site-packages (from matplotlib>=2.1->corner) (2.4.7)\r\n",
      "Requirement already satisfied: kiwisolver>=1.0.1 in ./jenv/lib/python3.8/site-packages (from matplotlib>=2.1->corner) (1.3.1)\r\n",
      "Requirement already satisfied: python-dateutil>=2.1 in ./jenv/lib/python3.8/site-packages (from matplotlib>=2.1->corner) (2.8.1)\r\n",
      "Requirement already satisfied: pillow>=6.2.0 in ./jenv/lib/python3.8/site-packages (from matplotlib>=2.1->corner) (8.1.2)\r\n",
      "Requirement already satisfied: numpy>=1.15 in ./jenv/lib/python3.8/site-packages (from matplotlib>=2.1->corner) (1.20.1)\r\n",
      "Requirement already satisfied: cycler>=0.10 in ./jenv/lib/python3.8/site-packages (from matplotlib>=2.1->corner) (0.10.0)\r\n",
      "Requirement already satisfied: six in ./jenv/lib/python3.8/site-packages (from cycler>=0.10->matplotlib>=2.1->corner) (1.15.0)\r\n"
     ]
    }
   ],
   "source": [
    "!pip install -Uqq fastai fastcore\n",
    "!pip install corner"
   ]
  },
  {
   "cell_type": "markdown",
   "metadata": {
    "id": "8jyCeqywMp60"
   },
   "source": [
    "Installing required libraries for fastai."
   ]
  },
  {
   "cell_type": "code",
   "execution_count": 2,
   "metadata": {
    "colab": {
     "base_uri": "https://localhost:8080/",
     "height": 35
    },
    "executionInfo": {
     "elapsed": 6459,
     "status": "ok",
     "timestamp": 1615989346822,
     "user": {
      "displayName": "Shivam Balikondwar",
      "photoUrl": "https://lh3.googleusercontent.com/a-/AOh14GhP350413RUyAo9Fb-EoVnG0MwLSZoEOnbJ1cY3=s64",
      "userId": "09326338805341118172"
     },
     "user_tz": -330
    },
    "id": "AoIuQWdP3033",
    "outputId": "b14be7b7-9c53-405c-91ca-6e4bf7e1245f"
   },
   "outputs": [
    {
     "data": {
      "text/plain": [
       "'2.2.7'"
      ]
     },
     "execution_count": 2,
     "metadata": {},
     "output_type": "execute_result"
    }
   ],
   "source": [
    "import fastai\n",
    "fastai.__version__"
   ]
  },
  {
   "cell_type": "markdown",
   "metadata": {
    "id": "wdFgWBtlM1-r"
   },
   "source": [
    "Importing necessary libraries"
   ]
  },
  {
   "cell_type": "code",
   "execution_count": 3,
   "metadata": {
    "executionInfo": {
     "elapsed": 6453,
     "status": "ok",
     "timestamp": 1615989346823,
     "user": {
      "displayName": "Shivam Balikondwar",
      "photoUrl": "https://lh3.googleusercontent.com/a-/AOh14GhP350413RUyAo9Fb-EoVnG0MwLSZoEOnbJ1cY3=s64",
      "userId": "09326338805341118172"
     },
     "user_tz": -330
    },
    "id": "Sw0qfBl4CHQi"
   },
   "outputs": [],
   "source": [
    "import numpy as np\n",
    "import pandas as pd\n",
    "import matplotlib.pyplot as plt\n",
    "\n",
    "import torch\n",
    "import torch.nn as nn\n",
    "\n",
    "import torch.optim as optim\n",
    "import torch.utils.data\n",
    "\n",
    "from torch.utils.data import TensorDataset\n",
    "from torch.utils.data import DataLoader, Dataset\n",
    "from torch.autograd import Variable\n",
    "\n",
    "import fastai\n",
    "\n",
    "from scipy import stats\n",
    "import seaborn as sns\n",
    "\n",
    "from fastai import learner\n",
    "from fastai.tabular.all import *\n",
    "from fastai.data import core\n",
    "\n",
    "from fastai.metrics import mse\n",
    "\n",
    "import matplotlib as mpl\n",
    "import corner.corner as corner"
   ]
  },
  {
   "cell_type": "markdown",
   "metadata": {
    "id": "DDVT7pYpNGGd"
   },
   "source": [
    "Mounting google drive for loading necessary pickle files"
   ]
  },
  {
   "cell_type": "code",
   "execution_count": 4,
   "metadata": {
    "colab": {
     "base_uri": "https://localhost:8080/"
    },
    "executionInfo": {
     "elapsed": 1323,
     "status": "ok",
     "timestamp": 1615989583182,
     "user": {
      "displayName": "Shivam Balikondwar",
      "photoUrl": "https://lh3.googleusercontent.com/a-/AOh14GhP350413RUyAo9Fb-EoVnG0MwLSZoEOnbJ1cY3=s64",
      "userId": "09326338805341118172"
     },
     "user_tz": -330
    },
    "id": "KlA79wo5ybJm",
    "outputId": "6a556c47-3f93-4a48-b01a-65155bd70f6a"
   },
   "outputs": [],
   "source": [
    "import os \n",
    "dir_path = os.getcwd()\n",
    "\n",
    "dataset = pd.read_pickle(dir_path+'/processed_datalabel.pkl')"
   ]
  },
  {
   "cell_type": "markdown",
   "metadata": {
    "id": "VDgTJL1lNNuU"
   },
   "source": [
    "Converting object entries to float64"
   ]
  },
  {
   "cell_type": "code",
   "execution_count": 5,
   "metadata": {
    "executionInfo": {
     "elapsed": 6446,
     "status": "ok",
     "timestamp": 1615989346824,
     "user": {
      "displayName": "Shivam Balikondwar",
      "photoUrl": "https://lh3.googleusercontent.com/a-/AOh14GhP350413RUyAo9Fb-EoVnG0MwLSZoEOnbJ1cY3=s64",
      "userId": "09326338805341118172"
     },
     "user_tz": -330
    },
    "id": "hpoqG3Px0EXN"
   },
   "outputs": [],
   "source": [
    "if 'proc_id' in dataset:\n",
    "  dataset = dataset.drop(columns=['proc_id'])\n",
    "\n",
    "dataset = dataset.astype('float64')"
   ]
  },
  {
   "cell_type": "markdown",
   "metadata": {
    "id": "gSpHraegNUaX"
   },
   "source": [
    "Splitting dataset into two parts:\n",
    "\n",
    "1. `train` set containing of 70% of dataset.\n",
    "\n",
    "2. `test` set containing of 30% of dataset."
   ]
  },
  {
   "cell_type": "code",
   "execution_count": 6,
   "metadata": {
    "executionInfo": {
     "elapsed": 6443,
     "status": "ok",
     "timestamp": 1615989346825,
     "user": {
      "displayName": "Shivam Balikondwar",
      "photoUrl": "https://lh3.googleusercontent.com/a-/AOh14GhP350413RUyAo9Fb-EoVnG0MwLSZoEOnbJ1cY3=s64",
      "userId": "09326338805341118172"
     },
     "user_tz": -330
    },
    "id": "NneqC3SX4AuT"
   },
   "outputs": [],
   "source": [
    "from sklearn.utils import shuffle\n",
    "\n",
    "#Using only necessary dataset entries\n",
    "dataset = dataset[['e','pt','eta','phi']]\n",
    "\n",
    "#Shuffling dataset rows to select random entries\n",
    "dataset = shuffle(dataset)\n",
    "\n",
    "ln = len(dataset)\n",
    "\n",
    "#Point to divide the data\n",
    "pvt = int(ln*(7/10))\n",
    "\n",
    "train = dataset[:pvt]\n",
    "test = dataset[pvt+1:]"
   ]
  },
  {
   "cell_type": "markdown",
   "metadata": {
    "id": "FxVcHIrMOJh8"
   },
   "source": [
    "Dataset has a wide range of `e` and `pt` values which can affect performance of the autoencoder.\n",
    "\n",
    "To overcome this, normalise the entries by converting it into a suitable range.\n",
    "\n",
    "1. `e` and `pt` values are normalised using log scale.\n",
    "\n",
    "2. `eta` and `phi` values are divided by `5` and `3` respectively.\n",
    "\n",
    "The normalisation factors and process is cited from masters thesis of Eric Wulff [link](https://lup.lub.lu.se/student-papers/search/publication/9004751)."
   ]
  },
  {
   "cell_type": "code",
   "execution_count": 7,
   "metadata": {
    "executionInfo": {
     "elapsed": 6440,
     "status": "ok",
     "timestamp": 1615989346825,
     "user": {
      "displayName": "Shivam Balikondwar",
      "photoUrl": "https://lh3.googleusercontent.com/a-/AOh14GhP350413RUyAo9Fb-EoVnG0MwLSZoEOnbJ1cY3=s64",
      "userId": "09326338805341118172"
     },
     "user_tz": -330
    },
    "id": "3gicwFk72ltG"
   },
   "outputs": [],
   "source": [
    "import copy\n",
    "\n",
    "#Function to Normalise data\n",
    "def normalise(data):\n",
    "  df2 = data.copy()\n",
    "  #Converting to GeV\n",
    "  df2['e'] = (data['e'] / 1000)\n",
    "  df2['pt'] = data['pt'] / 1000\n",
    "  \n",
    "  #Normalising data to reduce range of distribution of jet values \n",
    "  df2['e'] = np.log10(data['e'])\n",
    "  df2['pt'] = np.log10(data['pt'])  \n",
    "  df2['eta'] = data['eta'] / 5\n",
    "  df2['phi'] = data['phi'] / 3\n",
    "  return df2"
   ]
  },
  {
   "cell_type": "markdown",
   "metadata": {
    "id": "NRW68qbSPloN"
   },
   "source": [
    "Normalising values."
   ]
  },
  {
   "cell_type": "code",
   "execution_count": 8,
   "metadata": {
    "executionInfo": {
     "elapsed": 6437,
     "status": "ok",
     "timestamp": 1615989346825,
     "user": {
      "displayName": "Shivam Balikondwar",
      "photoUrl": "https://lh3.googleusercontent.com/a-/AOh14GhP350413RUyAo9Fb-EoVnG0MwLSZoEOnbJ1cY3=s64",
      "userId": "09326338805341118172"
     },
     "user_tz": -330
    },
    "id": "gwx8WPgbCUkA"
   },
   "outputs": [],
   "source": [
    "#Normalise input values\n",
    "train_normal_x = normalise(train)\n",
    "test_normal_x = normalise(test)\n",
    "\n",
    "\n",
    "#In an Autoencoder input value(x) = output value(y)\n",
    "train_normal_y = train_normal_x \n",
    "test_normal_y = test_normal_x"
   ]
  },
  {
   "cell_type": "markdown",
   "metadata": {
    "id": "fNVGRxYnPuxA"
   },
   "source": [
    "Function to plot histograms of the normalised data."
   ]
  },
  {
   "cell_type": "code",
   "execution_count": 9,
   "metadata": {
    "executionInfo": {
     "elapsed": 6435,
     "status": "ok",
     "timestamp": 1615989346826,
     "user": {
      "displayName": "Shivam Balikondwar",
      "photoUrl": "https://lh3.googleusercontent.com/a-/AOh14GhP350413RUyAo9Fb-EoVnG0MwLSZoEOnbJ1cY3=s64",
      "userId": "09326338805341118172"
     },
     "user_tz": -330
    },
    "id": "bMWekQsi0rkL"
   },
   "outputs": [],
   "source": [
    "\n",
    "#Units for plots\n",
    "unit_list =  ['[log(GeV)]','[log(GeV)]', '[rad/5]', '[rad/3]']\n",
    "\n",
    "#Variable representation\n",
    "variable_list = [r'$e$', r'$p_T$', r'$\\eta$', r'$\\phi$']\n",
    "\n",
    "#Visual parameters for the plot\n",
    "line_style = ['--', '-']\n",
    "colors = ['orange', 'c']\n",
    "markers = ['*', 's']\n",
    "\n",
    "n_bins = 100\n",
    "\n",
    "#Function to plot histograms of all jet values.\n",
    "def histogram(data):\n",
    "    plt.close('all')\n",
    "\n",
    "    # Histograms\n",
    "    idxs = (0, ln)  \n",
    "    data = data[idxs[0]:idxs[1]].values\n",
    "\n",
    "    alph = 0.8\n",
    "    n_bins = 50\n",
    "    for kk in np.arange(4):\n",
    "        plt.figure(kk + 4)\n",
    "        n_hist_data, bin_edges, _ = plt.hist(data[:, kk], color=colors[1], label='Input', alpha=1, bins=n_bins)\n",
    "        plt.suptitle(test.columns[kk])\n",
    "        plt.xlabel(variable_list[kk] + ' ' + unit_list[kk])\n",
    "        plt.ylabel('Number of events')\n",
    "        plt.legend()"
   ]
  },
  {
   "cell_type": "markdown",
   "metadata": {
    "id": "5Wk-vjKZTeIG"
   },
   "source": [
    "Plotting histograms for normalised data."
   ]
  },
  {
   "cell_type": "code",
   "execution_count": 10,
   "metadata": {
    "colab": {
     "base_uri": "https://localhost:8080/",
     "height": 1000
    },
    "executionInfo": {
     "elapsed": 8335,
     "status": "ok",
     "timestamp": 1615989348730,
     "user": {
      "displayName": "Shivam Balikondwar",
      "photoUrl": "https://lh3.googleusercontent.com/a-/AOh14GhP350413RUyAo9Fb-EoVnG0MwLSZoEOnbJ1cY3=s64",
      "userId": "09326338805341118172"
     },
     "user_tz": -330
    },
    "id": "voswYg4jFtYg",
    "outputId": "55e10c50-bb70-44e2-81e4-53d0d838a56c",
    "scrolled": true
   },
   "outputs": [
    {
     "data": {
      "image/png": "[encoded data removed]",
      "text/plain": [
       "<Figure size 432x288 with 1 Axes>"
      ]
     },
     "metadata": {
      "needs_background": "light"
     },
     "output_type": "display_data"
    },
    {
     "data": {
      "image/png": "[encoded data removed]",
      "text/plain": [
       "<Figure size 432x288 with 1 Axes>"
      ]
     },
     "metadata": {
      "needs_background": "light"
     },
     "output_type": "display_data"
    },
    {
     "data": {
      "image/png": "[encoded data removed]",
      "text/plain": [
       "<Figure size 432x288 with 1 Axes>"
      ]
     },
     "metadata": {
      "needs_background": "light"
     },
     "output_type": "display_data"
    },
    {
     "data": {
      "image/png": "[encoded data removed]",
      "text/plain": [
       "<Figure size 432x288 with 1 Axes>"
      ]
     },
     "metadata": {
      "needs_background": "light"
     },
     "output_type": "display_data"
    }
   ],
   "source": [
    "histogram(train_normal_x)"
   ]
  },
  {
   "cell_type": "markdown",
   "metadata": {
    "id": "axovvmffTjzp"
   },
   "source": [
    "`Autoencoders`\n",
    "\n",
    "`Autoencoders` are a class of neural networks that are used to reduce dimensionality thus working as data compressors. \n",
    "\n",
    "Architecture:\n",
    "\n",
    "\n",
    "\n",
    "\n",
    "`En1`: The input layer takes 4 jet features as input and produces linear transformed 200 features.\n",
    "\n",
    "`En2`: The input layer takes 200 features and scales down to 100 features.\n",
    "\n",
    "`En3`: The input layer takes 100 features and scales down to 50 features.\n",
    "\n",
    "`En4`: The input layer takes 50 features and scales down to 3 features.\n",
    "\n",
    "The resulting output from En4 is the `compressed data` in 3 variable form. This can be stored in pickled format for later use.\n",
    "\n",
    "The compressed data can be recovered by passing it through the decoder part of the autoencoder.\n",
    "\n",
    "`Dec1`: The input layer takes 3 features and scales up to 50 features.\n",
    "\n",
    "`Dec2`: The input layer takes 50 features and scales up to 100 features.\n",
    "\n",
    "`Dec3`: The input layer takes 100 features and scales up to 200 features.\n",
    "\n",
    "`Dec4`: The input layer takes 200 features and scales up to 4 features.\n",
    "\n",
    "\n",
    "Dataflow:\n",
    "\n",
    "1. Encoder\n",
    "\n",
    "    Input -> En1 -> En2 -> En3 -> En4 --> compressed code/data\n",
    "                                                           \n",
    "2. Decoder\n",
    "\n",
    "    compressed data --> Dec1 -> Dec2 -> Dec3 -> Dec4 -> Input\n",
    "\n",
    "\n",
    "For illustration:\n",
    "\n",
    "![image.png](data:image/png;base64,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)\n",
    "\n"
   ]
  },
  {
   "cell_type": "code",
   "execution_count": 11,
   "metadata": {
    "executionInfo": {
     "elapsed": 8331,
     "status": "ok",
     "timestamp": 1615989348731,
     "user": {
      "displayName": "Shivam Balikondwar",
      "photoUrl": "https://lh3.googleusercontent.com/a-/AOh14GhP350413RUyAo9Fb-EoVnG0MwLSZoEOnbJ1cY3=s64",
      "userId": "09326338805341118172"
     },
     "user_tz": -330
    },
    "id": "oGR7HJYsF55G"
   },
   "outputs": [],
   "source": [
    "\n",
    "class AE_3D_200(nn.Module):\n",
    "\n",
    "    #Initialise the components\n",
    "    def __init__(self, n_features=4):\n",
    "        super(AE_3D_200, self).__init__()\n",
    "        self.en1 = nn.Linear(n_features, 200)\n",
    "        self.en2 = nn.Linear(200, 100)\n",
    "        self.en3 = nn.Linear(100, 50)\n",
    "        self.en4 = nn.Linear(50, 3)\n",
    "        self.de1 = nn.Linear(3, 50)\n",
    "        self.de2 = nn.Linear(50, 100)\n",
    "        self.de3 = nn.Linear(100, 200)\n",
    "        self.de4 = nn.Linear(200, n_features)\n",
    "        self.tanh = nn.Tanh()\n",
    "\n",
    "    #Encoder part\n",
    "    def encode(self, x):\n",
    "        return self.en4(self.tanh(self.en3(self.tanh(self.en2(self.tanh(self.en1(x)))))))\n",
    "\n",
    "    #Decoder part\n",
    "    def decode(self, x):\n",
    "        return self.de4(self.tanh(self.de3(self.tanh(self.de2(self.tanh(self.de1(self.tanh(x))))))))\n",
    "\n",
    "    #An autoencoding cycle\n",
    "    def forward(self, x):\n",
    "        z = self.encode(x)\n",
    "        return self.decode(z)\n",
    "\n",
    "    def describe(self):\n",
    "        return 'in-200-200-20-3-20-200-200-out'\n",
    "\n",
    "model = AE_3D_200()"
   ]
  },
  {
   "cell_type": "markdown",
   "metadata": {
    "id": "A2bkoz73cvIS"
   },
   "source": [
    "Making data ready for feeding to model"
   ]
  },
  {
   "cell_type": "code",
   "execution_count": 12,
   "metadata": {
    "executionInfo": {
     "elapsed": 8328,
     "status": "ok",
     "timestamp": 1615989348731,
     "user": {
      "displayName": "Shivam Balikondwar",
      "photoUrl": "https://lh3.googleusercontent.com/a-/AOh14GhP350413RUyAo9Fb-EoVnG0MwLSZoEOnbJ1cY3=s64",
      "userId": "09326338805341118172"
     },
     "user_tz": -330
    },
    "id": "OxV32ebR9ACK"
   },
   "outputs": [],
   "source": [
    "#Batch size\n",
    "bs = 256\n",
    "\n",
    "#Converting dataset from Dataframe to tensordataset\n",
    "train_ds = TensorDataset(torch.tensor(train_normal_x.values, dtype=torch.float), torch.tensor(train_normal_y.values, dtype=torch.float))\n",
    "valid_ds = TensorDataset(torch.tensor(test_normal_y.values, dtype=torch.float), torch.tensor(test_normal_y.values, dtype=torch.float))\n",
    "\n",
    "#Dataloaders to ease the process of feeding data to the model\n",
    "train_dl = DataLoader(train_ds, batch_size=bs, shuffle=True)\n",
    "valid_dl = DataLoader(valid_ds, batch_size=bs * 2)\n",
    "\n",
    "dls = DataLoaders(train_dl, valid_dl)"
   ]
  },
  {
   "cell_type": "markdown",
   "metadata": {
    "id": "gWlR6zD1d6q1"
   },
   "source": [
    "Print model inner layers"
   ]
  },
  {
   "cell_type": "code",
   "execution_count": 13,
   "metadata": {
    "colab": {
     "base_uri": "https://localhost:8080/"
    },
    "executionInfo": {
     "elapsed": 8324,
     "status": "ok",
     "timestamp": 1615989348732,
     "user": {
      "displayName": "Shivam Balikondwar",
      "photoUrl": "https://lh3.googleusercontent.com/a-/AOh14GhP350413RUyAo9Fb-EoVnG0MwLSZoEOnbJ1cY3=s64",
      "userId": "09326338805341118172"
     },
     "user_tz": -330
    },
    "id": "cAm6uS6HHgB4",
    "outputId": "5e37c719-e614-4d4d-b51f-7be5c500f922"
   },
   "outputs": [
    {
     "data": {
      "text/plain": [
       "AE_3D_200(\n",
       "  (en1): Linear(in_features=4, out_features=200, bias=True)\n",
       "  (en2): Linear(in_features=200, out_features=100, bias=True)\n",
       "  (en3): Linear(in_features=100, out_features=50, bias=True)\n",
       "  (en4): Linear(in_features=50, out_features=3, bias=True)\n",
       "  (de1): Linear(in_features=3, out_features=50, bias=True)\n",
       "  (de2): Linear(in_features=50, out_features=100, bias=True)\n",
       "  (de3): Linear(in_features=100, out_features=200, bias=True)\n",
       "  (de4): Linear(in_features=200, out_features=4, bias=True)\n",
       "  (tanh): Tanh()\n",
       ")"
      ]
     },
     "execution_count": 13,
     "metadata": {},
     "output_type": "execute_result"
    }
   ],
   "source": [
    "model.to('cpu')"
   ]
  },
  {
   "cell_type": "markdown",
   "metadata": {
    "id": "ZmxR8egTeFUK"
   },
   "source": [
    "Using MSE as loss functions.\n",
    "\n",
    "Referred from Eric Wulfer's thesis."
   ]
  },
  {
   "cell_type": "code",
   "execution_count": 14,
   "metadata": {
    "executionInfo": {
     "elapsed": 8320,
     "status": "ok",
     "timestamp": 1615989348732,
     "user": {
      "displayName": "Shivam Balikondwar",
      "photoUrl": "https://lh3.googleusercontent.com/a-/AOh14GhP350413RUyAo9Fb-EoVnG0MwLSZoEOnbJ1cY3=s64",
      "userId": "09326338805341118172"
     },
     "user_tz": -330
    },
    "id": "M8pDVJweHovi"
   },
   "outputs": [],
   "source": [
    "loss_func = nn.MSELoss()\n",
    "\n",
    "recorder = learner.Recorder()\n",
    "\n",
    "learn = learner.Learner(dls, model=model, loss_func=loss_func, lr=0.001, cbs=recorder)"
   ]
  },
  {
   "cell_type": "code",
   "execution_count": 15,
   "metadata": {
    "colab": {
     "base_uri": "https://localhost:8080/",
     "height": 305
    },
    "executionInfo": {
     "elapsed": 9772,
     "status": "ok",
     "timestamp": 1615989350188,
     "user": {
      "displayName": "Shivam Balikondwar",
      "photoUrl": "https://lh3.googleusercontent.com/a-/AOh14GhP350413RUyAo9Fb-EoVnG0MwLSZoEOnbJ1cY3=s64",
      "userId": "09326338805341118172"
     },
     "user_tz": -330
    },
    "id": "nwEeNUkagpl3",
    "outputId": "8dba02b0-c0d6-455f-f6ab-72266ff40c03"
   },
   "outputs": [
    {
     "data": {
      "text/html": [],
      "text/plain": [
       "<IPython.core.display.HTML object>"
      ]
     },
     "metadata": {},
     "output_type": "display_data"
    },
    {
     "data": {
      "text/plain": [
       "SuggestedLRs(lr_min=0.012022644281387329, lr_steep=0.002511886414140463)"
      ]
     },
     "execution_count": 15,
     "metadata": {},
     "output_type": "execute_result"
    },
    {
     "data": {
      "image/png": "[encoded data removed]",
      "text/plain": [
       "<Figure size 432x288 with 1 Axes>"
      ]
     },
     "metadata": {
      "needs_background": "light"
     },
     "output_type": "display_data"
    }
   ],
   "source": [
    "learn.lr_find()"
   ]
  },
  {
   "cell_type": "markdown",
   "metadata": {
    "id": "9PMCHI4UeW_T"
   },
   "source": [
    "Training model."
   ]
  },
  {
   "cell_type": "code",
   "execution_count": 16,
   "metadata": {
    "colab": {
     "base_uri": "https://localhost:8080/",
     "height": 1000
    },
    "executionInfo": {
     "elapsed": 93351,
     "status": "ok",
     "timestamp": 1615989433773,
     "user": {
      "displayName": "Shivam Balikondwar",
      "photoUrl": "https://lh3.googleusercontent.com/a-/AOh14GhP350413RUyAo9Fb-EoVnG0MwLSZoEOnbJ1cY3=s64",
      "userId": "09326338805341118172"
     },
     "user_tz": -330
    },
    "id": "-tN0JuY09gZf",
    "outputId": "46c89a35-7a0c-47b3-e314-b82e9dd59e2b"
   },
   "outputs": [
    {
     "data": {
      "text/html": [
       "<table border=\"1\" class=\"dataframe\">\n",
       "  <thead>\n",
       "    <tr style=\"text-align: left;\">\n",
       "      <th>epoch</th>\n",
       "      <th>train_loss</th>\n",
       "      <th>valid_loss</th>\n",
       "      <th>time</th>\n",
       "    </tr>\n",
       "  </thead>\n",
       "  <tbody>\n",
       "    <tr>\n",
       "      <td>0</td>\n",
       "      <td>1.418337</td>\n",
       "      <td>0.228622</td>\n",
       "      <td>00:00</td>\n",
       "    </tr>\n",
       "    <tr>\n",
       "      <td>0</td>\n",
       "      <td>1.418337</td>\n",
       "      <td>0.228622</td>\n",
       "      <td>00:00</td>\n",
       "    </tr>\n",
       "    <tr>\n",
       "      <td>1</td>\n",
       "      <td>0.494611</td>\n",
       "      <td>0.225322</td>\n",
       "      <td>00:00</td>\n",
       "    </tr>\n",
       "    <tr>\n",
       "      <td>1</td>\n",
       "      <td>0.494611</td>\n",
       "      <td>0.225322</td>\n",
       "      <td>00:00</td>\n",
       "    </tr>\n",
       "    <tr>\n",
       "      <td>2</td>\n",
       "      <td>0.300248</td>\n",
       "      <td>0.226473</td>\n",
       "      <td>00:00</td>\n",
       "    </tr>\n",
       "    <tr>\n",
       "      <td>2</td>\n",
       "      <td>0.300248</td>\n",
       "      <td>0.226473</td>\n",
       "      <td>00:00</td>\n",
       "    </tr>\n",
       "    <tr>\n",
       "      <td>3</td>\n",
       "      <td>0.249252</td>\n",
       "      <td>0.226026</td>\n",
       "      <td>00:00</td>\n",
       "    </tr>\n",
       "    <tr>\n",
       "      <td>3</td>\n",
       "      <td>0.249252</td>\n",
       "      <td>0.226026</td>\n",
       "      <td>00:00</td>\n",
       "    </tr>\n",
       "    <tr>\n",
       "      <td>4</td>\n",
       "      <td>0.234787</td>\n",
       "      <td>0.224466</td>\n",
       "      <td>00:00</td>\n",
       "    </tr>\n",
       "    <tr>\n",
       "      <td>4</td>\n",
       "      <td>0.234787</td>\n",
       "      <td>0.224466</td>\n",
       "      <td>00:00</td>\n",
       "    </tr>\n",
       "    <tr>\n",
       "      <td>5</td>\n",
       "      <td>0.230692</td>\n",
       "      <td>0.224905</td>\n",
       "      <td>00:00</td>\n",
       "    </tr>\n",
       "    <tr>\n",
       "      <td>5</td>\n",
       "      <td>0.230692</td>\n",
       "      <td>0.224905</td>\n",
       "      <td>00:00</td>\n",
       "    </tr>\n",
       "    <tr>\n",
       "      <td>6</td>\n",
       "      <td>0.229349</td>\n",
       "      <td>0.226242</td>\n",
       "      <td>00:00</td>\n",
       "    </tr>\n",
       "    <tr>\n",
       "      <td>6</td>\n",
       "      <td>0.229349</td>\n",
       "      <td>0.226242</td>\n",
       "      <td>00:00</td>\n",
       "    </tr>\n",
       "    <tr>\n",
       "      <td>7</td>\n",
       "      <td>0.200552</td>\n",
       "      <td>0.140427</td>\n",
       "      <td>00:00</td>\n",
       "    </tr>\n",
       "    <tr>\n",
       "      <td>7</td>\n",
       "      <td>0.200552</td>\n",
       "      <td>0.140427</td>\n",
       "      <td>00:00</td>\n",
       "    </tr>\n",
       "    <tr>\n",
       "      <td>8</td>\n",
       "      <td>0.126254</td>\n",
       "      <td>0.048178</td>\n",
       "      <td>00:00</td>\n",
       "    </tr>\n",
       "    <tr>\n",
       "      <td>8</td>\n",
       "      <td>0.126254</td>\n",
       "      <td>0.048178</td>\n",
       "      <td>00:00</td>\n",
       "    </tr>\n",
       "    <tr>\n",
       "      <td>9</td>\n",
       "      <td>0.064368</td>\n",
       "      <td>0.037551</td>\n",
       "      <td>00:00</td>\n",
       "    </tr>\n",
       "    <tr>\n",
       "      <td>9</td>\n",
       "      <td>0.064368</td>\n",
       "      <td>0.037551</td>\n",
       "      <td>00:00</td>\n",
       "    </tr>\n",
       "    <tr>\n",
       "      <td>10</td>\n",
       "      <td>0.045884</td>\n",
       "      <td>0.037008</td>\n",
       "      <td>00:00</td>\n",
       "    </tr>\n",
       "    <tr>\n",
       "      <td>10</td>\n",
       "      <td>0.045884</td>\n",
       "      <td>0.037008</td>\n",
       "      <td>00:00</td>\n",
       "    </tr>\n",
       "    <tr>\n",
       "      <td>11</td>\n",
       "      <td>0.040193</td>\n",
       "      <td>0.037684</td>\n",
       "      <td>00:00</td>\n",
       "    </tr>\n",
       "    <tr>\n",
       "      <td>11</td>\n",
       "      <td>0.040193</td>\n",
       "      <td>0.037684</td>\n",
       "      <td>00:00</td>\n",
       "    </tr>\n",
       "    <tr>\n",
       "      <td>12</td>\n",
       "      <td>0.038653</td>\n",
       "      <td>0.038092</td>\n",
       "      <td>00:00</td>\n",
       "    </tr>\n",
       "    <tr>\n",
       "      <td>12</td>\n",
       "      <td>0.038653</td>\n",
       "      <td>0.038092</td>\n",
       "      <td>00:00</td>\n",
       "    </tr>\n",
       "    <tr>\n",
       "      <td>13</td>\n",
       "      <td>0.037959</td>\n",
       "      <td>0.037941</td>\n",
       "      <td>00:00</td>\n",
       "    </tr>\n",
       "    <tr>\n",
       "      <td>13</td>\n",
       "      <td>0.037959</td>\n",
       "      <td>0.037941</td>\n",
       "      <td>00:00</td>\n",
       "    </tr>\n",
       "    <tr>\n",
       "      <td>14</td>\n",
       "      <td>0.037365</td>\n",
       "      <td>0.036242</td>\n",
       "      <td>00:00</td>\n",
       "    </tr>\n",
       "    <tr>\n",
       "      <td>14</td>\n",
       "      <td>0.037365</td>\n",
       "      <td>0.036242</td>\n",
       "      <td>00:00</td>\n",
       "    </tr>\n",
       "    <tr>\n",
       "      <td>15</td>\n",
       "      <td>0.036304</td>\n",
       "      <td>0.032099</td>\n",
       "      <td>00:00</td>\n",
       "    </tr>\n",
       "    <tr>\n",
       "      <td>15</td>\n",
       "      <td>0.036304</td>\n",
       "      <td>0.032099</td>\n",
       "      <td>00:00</td>\n",
       "    </tr>\n",
       "    <tr>\n",
       "      <td>16</td>\n",
       "      <td>0.029544</td>\n",
       "      <td>0.024198</td>\n",
       "      <td>00:00</td>\n",
       "    </tr>\n",
       "    <tr>\n",
       "      <td>16</td>\n",
       "      <td>0.029544</td>\n",
       "      <td>0.024198</td>\n",
       "      <td>00:00</td>\n",
       "    </tr>\n",
       "    <tr>\n",
       "      <td>17</td>\n",
       "      <td>0.025494</td>\n",
       "      <td>0.023145</td>\n",
       "      <td>00:00</td>\n",
       "    </tr>\n",
       "    <tr>\n",
       "      <td>17</td>\n",
       "      <td>0.025494</td>\n",
       "      <td>0.023145</td>\n",
       "      <td>00:00</td>\n",
       "    </tr>\n",
       "    <tr>\n",
       "      <td>18</td>\n",
       "      <td>0.023177</td>\n",
       "      <td>0.021073</td>\n",
       "      <td>00:00</td>\n",
       "    </tr>\n",
       "    <tr>\n",
       "      <td>18</td>\n",
       "      <td>0.023177</td>\n",
       "      <td>0.021073</td>\n",
       "      <td>00:00</td>\n",
       "    </tr>\n",
       "    <tr>\n",
       "      <td>19</td>\n",
       "      <td>0.020010</td>\n",
       "      <td>0.016654</td>\n",
       "      <td>00:00</td>\n",
       "    </tr>\n",
       "    <tr>\n",
       "      <td>19</td>\n",
       "      <td>0.020010</td>\n",
       "      <td>0.016654</td>\n",
       "      <td>00:00</td>\n",
       "    </tr>\n",
       "    <tr>\n",
       "      <td>20</td>\n",
       "      <td>0.016524</td>\n",
       "      <td>0.014141</td>\n",
       "      <td>00:00</td>\n",
       "    </tr>\n",
       "    <tr>\n",
       "      <td>20</td>\n",
       "      <td>0.016524</td>\n",
       "      <td>0.014141</td>\n",
       "      <td>00:00</td>\n",
       "    </tr>\n",
       "    <tr>\n",
       "      <td>21</td>\n",
       "      <td>0.014563</td>\n",
       "      <td>0.013084</td>\n",
       "      <td>00:00</td>\n",
       "    </tr>\n",
       "    <tr>\n",
       "      <td>21</td>\n",
       "      <td>0.014563</td>\n",
       "      <td>0.013084</td>\n",
       "      <td>00:00</td>\n",
       "    </tr>\n",
       "    <tr>\n",
       "      <td>22</td>\n",
       "      <td>0.011356</td>\n",
       "      <td>0.005957</td>\n",
       "      <td>00:00</td>\n",
       "    </tr>\n",
       "    <tr>\n",
       "      <td>22</td>\n",
       "      <td>0.011356</td>\n",
       "      <td>0.005957</td>\n",
       "      <td>00:00</td>\n",
       "    </tr>\n",
       "    <tr>\n",
       "      <td>23</td>\n",
       "      <td>0.005325</td>\n",
       "      <td>0.003749</td>\n",
       "      <td>00:00</td>\n",
       "    </tr>\n",
       "    <tr>\n",
       "      <td>23</td>\n",
       "      <td>0.005325</td>\n",
       "      <td>0.003749</td>\n",
       "      <td>00:00</td>\n",
       "    </tr>\n",
       "    <tr>\n",
       "      <td>24</td>\n",
       "      <td>0.002683</td>\n",
       "      <td>0.000884</td>\n",
       "      <td>00:00</td>\n",
       "    </tr>\n",
       "    <tr>\n",
       "      <td>24</td>\n",
       "      <td>0.002683</td>\n",
       "      <td>0.000884</td>\n",
       "      <td>00:00</td>\n",
       "    </tr>\n",
       "    <tr>\n",
       "      <td>25</td>\n",
       "      <td>0.002056</td>\n",
       "      <td>0.002402</td>\n",
       "      <td>00:00</td>\n",
       "    </tr>\n",
       "    <tr>\n",
       "      <td>25</td>\n",
       "      <td>0.002056</td>\n",
       "      <td>0.002402</td>\n",
       "      <td>00:00</td>\n",
       "    </tr>\n",
       "    <tr>\n",
       "      <td>26</td>\n",
       "      <td>0.001310</td>\n",
       "      <td>0.000500</td>\n",
       "      <td>00:00</td>\n",
       "    </tr>\n",
       "    <tr>\n",
       "      <td>26</td>\n",
       "      <td>0.001310</td>\n",
       "      <td>0.000500</td>\n",
       "      <td>00:00</td>\n",
       "    </tr>\n",
       "    <tr>\n",
       "      <td>27</td>\n",
       "      <td>0.001243</td>\n",
       "      <td>0.001121</td>\n",
       "      <td>00:00</td>\n",
       "    </tr>\n",
       "    <tr>\n",
       "      <td>27</td>\n",
       "      <td>0.001243</td>\n",
       "      <td>0.001121</td>\n",
       "      <td>00:00</td>\n",
       "    </tr>\n",
       "    <tr>\n",
       "      <td>28</td>\n",
       "      <td>0.001218</td>\n",
       "      <td>0.000895</td>\n",
       "      <td>00:00</td>\n",
       "    </tr>\n",
       "    <tr>\n",
       "      <td>28</td>\n",
       "      <td>0.001218</td>\n",
       "      <td>0.000895</td>\n",
       "      <td>00:00</td>\n",
       "    </tr>\n",
       "    <tr>\n",
       "      <td>29</td>\n",
       "      <td>0.001011</td>\n",
       "      <td>0.000740</td>\n",
       "      <td>00:00</td>\n",
       "    </tr>\n",
       "    <tr>\n",
       "      <td>29</td>\n",
       "      <td>0.001011</td>\n",
       "      <td>0.000740</td>\n",
       "      <td>00:00</td>\n",
       "    </tr>\n",
       "    <tr>\n",
       "      <td>30</td>\n",
       "      <td>0.001220</td>\n",
       "      <td>0.000622</td>\n",
       "      <td>00:00</td>\n",
       "    </tr>\n",
       "    <tr>\n",
       "      <td>30</td>\n",
       "      <td>0.001220</td>\n",
       "      <td>0.000622</td>\n",
       "      <td>00:00</td>\n",
       "    </tr>\n",
       "    <tr>\n",
       "      <td>31</td>\n",
       "      <td>0.000849</td>\n",
       "      <td>0.000805</td>\n",
       "      <td>00:00</td>\n",
       "    </tr>\n",
       "    <tr>\n",
       "      <td>31</td>\n",
       "      <td>0.000849</td>\n",
       "      <td>0.000805</td>\n",
       "      <td>00:00</td>\n",
       "    </tr>\n",
       "    <tr>\n",
       "      <td>32</td>\n",
       "      <td>0.001039</td>\n",
       "      <td>0.000555</td>\n",
       "      <td>00:00</td>\n",
       "    </tr>\n",
       "    <tr>\n",
       "      <td>32</td>\n",
       "      <td>0.001039</td>\n",
       "      <td>0.000555</td>\n",
       "      <td>00:00</td>\n",
       "    </tr>\n",
       "    <tr>\n",
       "      <td>33</td>\n",
       "      <td>0.000939</td>\n",
       "      <td>0.000308</td>\n",
       "      <td>00:00</td>\n",
       "    </tr>\n",
       "    <tr>\n",
       "      <td>33</td>\n",
       "      <td>0.000939</td>\n",
       "      <td>0.000308</td>\n",
       "      <td>00:00</td>\n",
       "    </tr>\n",
       "    <tr>\n",
       "      <td>34</td>\n",
       "      <td>0.000889</td>\n",
       "      <td>0.000652</td>\n",
       "      <td>00:00</td>\n",
       "    </tr>\n",
       "    <tr>\n",
       "      <td>34</td>\n",
       "      <td>0.000889</td>\n",
       "      <td>0.000652</td>\n",
       "      <td>00:00</td>\n",
       "    </tr>\n",
       "    <tr>\n",
       "      <td>35</td>\n",
       "      <td>0.000827</td>\n",
       "      <td>0.000398</td>\n",
       "      <td>00:00</td>\n",
       "    </tr>\n",
       "    <tr>\n",
       "      <td>35</td>\n",
       "      <td>0.000827</td>\n",
       "      <td>0.000398</td>\n",
       "      <td>00:00</td>\n",
       "    </tr>\n",
       "    <tr>\n",
       "      <td>36</td>\n",
       "      <td>0.000912</td>\n",
       "      <td>0.000391</td>\n",
       "      <td>00:00</td>\n",
       "    </tr>\n",
       "    <tr>\n",
       "      <td>36</td>\n",
       "      <td>0.000912</td>\n",
       "      <td>0.000391</td>\n",
       "      <td>00:00</td>\n",
       "    </tr>\n",
       "    <tr>\n",
       "      <td>37</td>\n",
       "      <td>0.001206</td>\n",
       "      <td>0.000323</td>\n",
       "      <td>00:00</td>\n",
       "    </tr>\n",
       "    <tr>\n",
       "      <td>37</td>\n",
       "      <td>0.001206</td>\n",
       "      <td>0.000323</td>\n",
       "      <td>00:00</td>\n",
       "    </tr>\n",
       "    <tr>\n",
       "      <td>38</td>\n",
       "      <td>0.001080</td>\n",
       "      <td>0.001893</td>\n",
       "      <td>00:00</td>\n",
       "    </tr>\n",
       "    <tr>\n",
       "      <td>38</td>\n",
       "      <td>0.001080</td>\n",
       "      <td>0.001893</td>\n",
       "      <td>00:00</td>\n",
       "    </tr>\n",
       "    <tr>\n",
       "      <td>39</td>\n",
       "      <td>0.000740</td>\n",
       "      <td>0.000378</td>\n",
       "      <td>00:00</td>\n",
       "    </tr>\n",
       "    <tr>\n",
       "      <td>39</td>\n",
       "      <td>0.000740</td>\n",
       "      <td>0.000378</td>\n",
       "      <td>00:00</td>\n",
       "    </tr>\n",
       "    <tr>\n",
       "      <td>40</td>\n",
       "      <td>0.000647</td>\n",
       "      <td>0.000755</td>\n",
       "      <td>00:00</td>\n",
       "    </tr>\n",
       "    <tr>\n",
       "      <td>40</td>\n",
       "      <td>0.000647</td>\n",
       "      <td>0.000755</td>\n",
       "      <td>00:00</td>\n",
       "    </tr>\n",
       "    <tr>\n",
       "      <td>41</td>\n",
       "      <td>0.000833</td>\n",
       "      <td>0.000480</td>\n",
       "      <td>00:00</td>\n",
       "    </tr>\n",
       "    <tr>\n",
       "      <td>41</td>\n",
       "      <td>0.000833</td>\n",
       "      <td>0.000480</td>\n",
       "      <td>00:00</td>\n",
       "    </tr>\n",
       "    <tr>\n",
       "      <td>42</td>\n",
       "      <td>0.000919</td>\n",
       "      <td>0.000896</td>\n",
       "      <td>00:00</td>\n",
       "    </tr>\n",
       "    <tr>\n",
       "      <td>42</td>\n",
       "      <td>0.000919</td>\n",
       "      <td>0.000896</td>\n",
       "      <td>00:00</td>\n",
       "    </tr>\n",
       "    <tr>\n",
       "      <td>43</td>\n",
       "      <td>0.000700</td>\n",
       "      <td>0.000610</td>\n",
       "      <td>00:00</td>\n",
       "    </tr>\n",
       "    <tr>\n",
       "      <td>43</td>\n",
       "      <td>0.000700</td>\n",
       "      <td>0.000610</td>\n",
       "      <td>00:00</td>\n",
       "    </tr>\n",
       "    <tr>\n",
       "      <td>44</td>\n",
       "      <td>0.000674</td>\n",
       "      <td>0.000502</td>\n",
       "      <td>00:00</td>\n",
       "    </tr>\n",
       "    <tr>\n",
       "      <td>44</td>\n",
       "      <td>0.000674</td>\n",
       "      <td>0.000502</td>\n",
       "      <td>00:00</td>\n",
       "    </tr>\n",
       "    <tr>\n",
       "      <td>45</td>\n",
       "      <td>0.000660</td>\n",
       "      <td>0.000230</td>\n",
       "      <td>00:00</td>\n",
       "    </tr>\n",
       "    <tr>\n",
       "      <td>45</td>\n",
       "      <td>0.000660</td>\n",
       "      <td>0.000230</td>\n",
       "      <td>00:00</td>\n",
       "    </tr>\n",
       "    <tr>\n",
       "      <td>46</td>\n",
       "      <td>0.000633</td>\n",
       "      <td>0.002359</td>\n",
       "      <td>00:00</td>\n",
       "    </tr>\n",
       "    <tr>\n",
       "      <td>46</td>\n",
       "      <td>0.000633</td>\n",
       "      <td>0.002359</td>\n",
       "      <td>00:00</td>\n",
       "    </tr>\n",
       "    <tr>\n",
       "      <td>47</td>\n",
       "      <td>0.000686</td>\n",
       "      <td>0.003716</td>\n",
       "      <td>00:00</td>\n",
       "    </tr>\n",
       "    <tr>\n",
       "      <td>47</td>\n",
       "      <td>0.000686</td>\n",
       "      <td>0.003716</td>\n",
       "      <td>00:00</td>\n",
       "    </tr>\n",
       "    <tr>\n",
       "      <td>48</td>\n",
       "      <td>0.000656</td>\n",
       "      <td>0.000576</td>\n",
       "      <td>00:00</td>\n",
       "    </tr>\n",
       "    <tr>\n",
       "      <td>48</td>\n",
       "      <td>0.000656</td>\n",
       "      <td>0.000576</td>\n",
       "      <td>00:00</td>\n",
       "    </tr>\n",
       "    <tr>\n",
       "      <td>49</td>\n",
       "      <td>0.000701</td>\n",
       "      <td>0.000317</td>\n",
       "      <td>00:00</td>\n",
       "    </tr>\n",
       "    <tr>\n",
       "      <td>49</td>\n",
       "      <td>0.000701</td>\n",
       "      <td>0.000317</td>\n",
       "      <td>00:00</td>\n",
       "    </tr>\n",
       "    <tr>\n",
       "      <td>50</td>\n",
       "      <td>0.000709</td>\n",
       "      <td>0.000193</td>\n",
       "      <td>00:00</td>\n",
       "    </tr>\n",
       "    <tr>\n",
       "      <td>50</td>\n",
       "      <td>0.000709</td>\n",
       "      <td>0.000193</td>\n",
       "      <td>00:00</td>\n",
       "    </tr>\n",
       "    <tr>\n",
       "      <td>51</td>\n",
       "      <td>0.000845</td>\n",
       "      <td>0.000202</td>\n",
       "      <td>00:00</td>\n",
       "    </tr>\n",
       "    <tr>\n",
       "      <td>51</td>\n",
       "      <td>0.000845</td>\n",
       "      <td>0.000202</td>\n",
       "      <td>00:00</td>\n",
       "    </tr>\n",
       "    <tr>\n",
       "      <td>52</td>\n",
       "      <td>0.000665</td>\n",
       "      <td>0.000577</td>\n",
       "      <td>00:00</td>\n",
       "    </tr>\n",
       "    <tr>\n",
       "      <td>52</td>\n",
       "      <td>0.000665</td>\n",
       "      <td>0.000577</td>\n",
       "      <td>00:00</td>\n",
       "    </tr>\n",
       "    <tr>\n",
       "      <td>53</td>\n",
       "      <td>0.000742</td>\n",
       "      <td>0.000442</td>\n",
       "      <td>00:00</td>\n",
       "    </tr>\n",
       "    <tr>\n",
       "      <td>53</td>\n",
       "      <td>0.000742</td>\n",
       "      <td>0.000442</td>\n",
       "      <td>00:00</td>\n",
       "    </tr>\n",
       "    <tr>\n",
       "      <td>54</td>\n",
       "      <td>0.000734</td>\n",
       "      <td>0.000214</td>\n",
       "      <td>00:00</td>\n",
       "    </tr>\n",
       "    <tr>\n",
       "      <td>54</td>\n",
       "      <td>0.000734</td>\n",
       "      <td>0.000214</td>\n",
       "      <td>00:00</td>\n",
       "    </tr>\n",
       "    <tr>\n",
       "      <td>55</td>\n",
       "      <td>0.000975</td>\n",
       "      <td>0.002694</td>\n",
       "      <td>00:00</td>\n",
       "    </tr>\n",
       "    <tr>\n",
       "      <td>55</td>\n",
       "      <td>0.000975</td>\n",
       "      <td>0.002694</td>\n",
       "      <td>00:00</td>\n",
       "    </tr>\n",
       "    <tr>\n",
       "      <td>56</td>\n",
       "      <td>0.000524</td>\n",
       "      <td>0.000134</td>\n",
       "      <td>00:00</td>\n",
       "    </tr>\n",
       "    <tr>\n",
       "      <td>56</td>\n",
       "      <td>0.000524</td>\n",
       "      <td>0.000134</td>\n",
       "      <td>00:00</td>\n",
       "    </tr>\n",
       "    <tr>\n",
       "      <td>57</td>\n",
       "      <td>0.000590</td>\n",
       "      <td>0.000395</td>\n",
       "      <td>00:00</td>\n",
       "    </tr>\n",
       "    <tr>\n",
       "      <td>57</td>\n",
       "      <td>0.000590</td>\n",
       "      <td>0.000395</td>\n",
       "      <td>00:00</td>\n",
       "    </tr>\n",
       "    <tr>\n",
       "      <td>58</td>\n",
       "      <td>0.000650</td>\n",
       "      <td>0.000320</td>\n",
       "      <td>00:00</td>\n",
       "    </tr>\n",
       "    <tr>\n",
       "      <td>58</td>\n",
       "      <td>0.000650</td>\n",
       "      <td>0.000320</td>\n",
       "      <td>00:00</td>\n",
       "    </tr>\n",
       "    <tr>\n",
       "      <td>59</td>\n",
       "      <td>0.000596</td>\n",
       "      <td>0.000610</td>\n",
       "      <td>00:00</td>\n",
       "    </tr>\n",
       "    <tr>\n",
       "      <td>59</td>\n",
       "      <td>0.000596</td>\n",
       "      <td>0.000610</td>\n",
       "      <td>00:00</td>\n",
       "    </tr>\n",
       "    <tr>\n",
       "      <td>60</td>\n",
       "      <td>0.000562</td>\n",
       "      <td>0.000252</td>\n",
       "      <td>00:00</td>\n",
       "    </tr>\n",
       "    <tr>\n",
       "      <td>60</td>\n",
       "      <td>0.000562</td>\n",
       "      <td>0.000252</td>\n",
       "      <td>00:00</td>\n",
       "    </tr>\n",
       "    <tr>\n",
       "      <td>61</td>\n",
       "      <td>0.000550</td>\n",
       "      <td>0.000832</td>\n",
       "      <td>00:00</td>\n",
       "    </tr>\n",
       "    <tr>\n",
       "      <td>61</td>\n",
       "      <td>0.000550</td>\n",
       "      <td>0.000832</td>\n",
       "      <td>00:00</td>\n",
       "    </tr>\n",
       "    <tr>\n",
       "      <td>62</td>\n",
       "      <td>0.000569</td>\n",
       "      <td>0.000459</td>\n",
       "      <td>00:00</td>\n",
       "    </tr>\n",
       "    <tr>\n",
       "      <td>62</td>\n",
       "      <td>0.000569</td>\n",
       "      <td>0.000459</td>\n",
       "      <td>00:00</td>\n",
       "    </tr>\n",
       "    <tr>\n",
       "      <td>63</td>\n",
       "      <td>0.000558</td>\n",
       "      <td>0.001637</td>\n",
       "      <td>00:00</td>\n",
       "    </tr>\n",
       "    <tr>\n",
       "      <td>63</td>\n",
       "      <td>0.000558</td>\n",
       "      <td>0.001637</td>\n",
       "      <td>00:00</td>\n",
       "    </tr>\n",
       "    <tr>\n",
       "      <td>64</td>\n",
       "      <td>0.000530</td>\n",
       "      <td>0.000211</td>\n",
       "      <td>00:00</td>\n",
       "    </tr>\n",
       "    <tr>\n",
       "      <td>64</td>\n",
       "      <td>0.000530</td>\n",
       "      <td>0.000211</td>\n",
       "      <td>00:00</td>\n",
       "    </tr>\n",
       "    <tr>\n",
       "      <td>65</td>\n",
       "      <td>0.000525</td>\n",
       "      <td>0.000573</td>\n",
       "      <td>00:00</td>\n",
       "    </tr>\n",
       "    <tr>\n",
       "      <td>65</td>\n",
       "      <td>0.000525</td>\n",
       "      <td>0.000573</td>\n",
       "      <td>00:00</td>\n",
       "    </tr>\n",
       "    <tr>\n",
       "      <td>66</td>\n",
       "      <td>0.000545</td>\n",
       "      <td>0.000302</td>\n",
       "      <td>00:00</td>\n",
       "    </tr>\n",
       "    <tr>\n",
       "      <td>66</td>\n",
       "      <td>0.000545</td>\n",
       "      <td>0.000302</td>\n",
       "      <td>00:00</td>\n",
       "    </tr>\n",
       "    <tr>\n",
       "      <td>67</td>\n",
       "      <td>0.000418</td>\n",
       "      <td>0.000396</td>\n",
       "      <td>00:00</td>\n",
       "    </tr>\n",
       "    <tr>\n",
       "      <td>67</td>\n",
       "      <td>0.000418</td>\n",
       "      <td>0.000396</td>\n",
       "      <td>00:00</td>\n",
       "    </tr>\n",
       "    <tr>\n",
       "      <td>68</td>\n",
       "      <td>0.000496</td>\n",
       "      <td>0.001071</td>\n",
       "      <td>00:00</td>\n",
       "    </tr>\n",
       "    <tr>\n",
       "      <td>68</td>\n",
       "      <td>0.000496</td>\n",
       "      <td>0.001071</td>\n",
       "      <td>00:00</td>\n",
       "    </tr>\n",
       "    <tr>\n",
       "      <td>69</td>\n",
       "      <td>0.000659</td>\n",
       "      <td>0.000733</td>\n",
       "      <td>00:00</td>\n",
       "    </tr>\n",
       "    <tr>\n",
       "      <td>69</td>\n",
       "      <td>0.000659</td>\n",
       "      <td>0.000733</td>\n",
       "      <td>00:00</td>\n",
       "    </tr>\n",
       "    <tr>\n",
       "      <td>70</td>\n",
       "      <td>0.000515</td>\n",
       "      <td>0.000773</td>\n",
       "      <td>00:00</td>\n",
       "    </tr>\n",
       "    <tr>\n",
       "      <td>70</td>\n",
       "      <td>0.000515</td>\n",
       "      <td>0.000773</td>\n",
       "      <td>00:00</td>\n",
       "    </tr>\n",
       "    <tr>\n",
       "      <td>71</td>\n",
       "      <td>0.000688</td>\n",
       "      <td>0.000178</td>\n",
       "      <td>00:00</td>\n",
       "    </tr>\n",
       "    <tr>\n",
       "      <td>71</td>\n",
       "      <td>0.000688</td>\n",
       "      <td>0.000178</td>\n",
       "      <td>00:00</td>\n",
       "    </tr>\n",
       "    <tr>\n",
       "      <td>72</td>\n",
       "      <td>0.000719</td>\n",
       "      <td>0.000522</td>\n",
       "      <td>00:00</td>\n",
       "    </tr>\n",
       "    <tr>\n",
       "      <td>72</td>\n",
       "      <td>0.000719</td>\n",
       "      <td>0.000522</td>\n",
       "      <td>00:00</td>\n",
       "    </tr>\n",
       "    <tr>\n",
       "      <td>73</td>\n",
       "      <td>0.000412</td>\n",
       "      <td>0.000150</td>\n",
       "      <td>00:00</td>\n",
       "    </tr>\n",
       "    <tr>\n",
       "      <td>73</td>\n",
       "      <td>0.000412</td>\n",
       "      <td>0.000150</td>\n",
       "      <td>00:00</td>\n",
       "    </tr>\n",
       "    <tr>\n",
       "      <td>74</td>\n",
       "      <td>0.000566</td>\n",
       "      <td>0.000067</td>\n",
       "      <td>00:00</td>\n",
       "    </tr>\n",
       "    <tr>\n",
       "      <td>74</td>\n",
       "      <td>0.000566</td>\n",
       "      <td>0.000067</td>\n",
       "      <td>00:00</td>\n",
       "    </tr>\n",
       "    <tr>\n",
       "      <td>75</td>\n",
       "      <td>0.000429</td>\n",
       "      <td>0.000108</td>\n",
       "      <td>00:00</td>\n",
       "    </tr>\n",
       "    <tr>\n",
       "      <td>75</td>\n",
       "      <td>0.000429</td>\n",
       "      <td>0.000108</td>\n",
       "      <td>00:00</td>\n",
       "    </tr>\n",
       "    <tr>\n",
       "      <td>76</td>\n",
       "      <td>0.000539</td>\n",
       "      <td>0.000236</td>\n",
       "      <td>00:00</td>\n",
       "    </tr>\n",
       "    <tr>\n",
       "      <td>76</td>\n",
       "      <td>0.000539</td>\n",
       "      <td>0.000236</td>\n",
       "      <td>00:00</td>\n",
       "    </tr>\n",
       "    <tr>\n",
       "      <td>77</td>\n",
       "      <td>0.000577</td>\n",
       "      <td>0.002103</td>\n",
       "      <td>00:00</td>\n",
       "    </tr>\n",
       "    <tr>\n",
       "      <td>77</td>\n",
       "      <td>0.000577</td>\n",
       "      <td>0.002103</td>\n",
       "      <td>00:00</td>\n",
       "    </tr>\n",
       "    <tr>\n",
       "      <td>78</td>\n",
       "      <td>0.000379</td>\n",
       "      <td>0.000097</td>\n",
       "      <td>00:00</td>\n",
       "    </tr>\n",
       "    <tr>\n",
       "      <td>78</td>\n",
       "      <td>0.000379</td>\n",
       "      <td>0.000097</td>\n",
       "      <td>00:00</td>\n",
       "    </tr>\n",
       "    <tr>\n",
       "      <td>79</td>\n",
       "      <td>0.000445</td>\n",
       "      <td>0.000077</td>\n",
       "      <td>00:00</td>\n",
       "    </tr>\n",
       "    <tr>\n",
       "      <td>79</td>\n",
       "      <td>0.000445</td>\n",
       "      <td>0.000077</td>\n",
       "      <td>00:00</td>\n",
       "    </tr>\n",
       "    <tr>\n",
       "      <td>80</td>\n",
       "      <td>0.000558</td>\n",
       "      <td>0.000166</td>\n",
       "      <td>00:00</td>\n",
       "    </tr>\n",
       "    <tr>\n",
       "      <td>80</td>\n",
       "      <td>0.000558</td>\n",
       "      <td>0.000166</td>\n",
       "      <td>00:00</td>\n",
       "    </tr>\n",
       "    <tr>\n",
       "      <td>81</td>\n",
       "      <td>0.000420</td>\n",
       "      <td>0.000081</td>\n",
       "      <td>00:00</td>\n",
       "    </tr>\n",
       "    <tr>\n",
       "      <td>81</td>\n",
       "      <td>0.000420</td>\n",
       "      <td>0.000081</td>\n",
       "      <td>00:00</td>\n",
       "    </tr>\n",
       "    <tr>\n",
       "      <td>82</td>\n",
       "      <td>0.000492</td>\n",
       "      <td>0.000099</td>\n",
       "      <td>00:00</td>\n",
       "    </tr>\n",
       "    <tr>\n",
       "      <td>82</td>\n",
       "      <td>0.000492</td>\n",
       "      <td>0.000099</td>\n",
       "      <td>00:00</td>\n",
       "    </tr>\n",
       "    <tr>\n",
       "      <td>83</td>\n",
       "      <td>0.000553</td>\n",
       "      <td>0.000185</td>\n",
       "      <td>00:00</td>\n",
       "    </tr>\n",
       "    <tr>\n",
       "      <td>83</td>\n",
       "      <td>0.000553</td>\n",
       "      <td>0.000185</td>\n",
       "      <td>00:00</td>\n",
       "    </tr>\n",
       "    <tr>\n",
       "      <td>84</td>\n",
       "      <td>0.000415</td>\n",
       "      <td>0.000221</td>\n",
       "      <td>00:00</td>\n",
       "    </tr>\n",
       "    <tr>\n",
       "      <td>84</td>\n",
       "      <td>0.000415</td>\n",
       "      <td>0.000221</td>\n",
       "      <td>00:00</td>\n",
       "    </tr>\n",
       "    <tr>\n",
       "      <td>85</td>\n",
       "      <td>0.000363</td>\n",
       "      <td>0.001982</td>\n",
       "      <td>00:00</td>\n",
       "    </tr>\n",
       "    <tr>\n",
       "      <td>85</td>\n",
       "      <td>0.000363</td>\n",
       "      <td>0.001982</td>\n",
       "      <td>00:00</td>\n",
       "    </tr>\n",
       "    <tr>\n",
       "      <td>86</td>\n",
       "      <td>0.000363</td>\n",
       "      <td>0.000226</td>\n",
       "      <td>00:00</td>\n",
       "    </tr>\n",
       "    <tr>\n",
       "      <td>86</td>\n",
       "      <td>0.000363</td>\n",
       "      <td>0.000226</td>\n",
       "      <td>00:00</td>\n",
       "    </tr>\n",
       "    <tr>\n",
       "      <td>87</td>\n",
       "      <td>0.000337</td>\n",
       "      <td>0.000094</td>\n",
       "      <td>00:00</td>\n",
       "    </tr>\n",
       "    <tr>\n",
       "      <td>87</td>\n",
       "      <td>0.000337</td>\n",
       "      <td>0.000094</td>\n",
       "      <td>00:00</td>\n",
       "    </tr>\n",
       "    <tr>\n",
       "      <td>88</td>\n",
       "      <td>0.000466</td>\n",
       "      <td>0.000053</td>\n",
       "      <td>00:00</td>\n",
       "    </tr>\n",
       "    <tr>\n",
       "      <td>88</td>\n",
       "      <td>0.000466</td>\n",
       "      <td>0.000053</td>\n",
       "      <td>00:00</td>\n",
       "    </tr>\n",
       "    <tr>\n",
       "      <td>89</td>\n",
       "      <td>0.000430</td>\n",
       "      <td>0.000304</td>\n",
       "      <td>00:00</td>\n",
       "    </tr>\n",
       "    <tr>\n",
       "      <td>89</td>\n",
       "      <td>0.000430</td>\n",
       "      <td>0.000304</td>\n",
       "      <td>00:00</td>\n",
       "    </tr>\n",
       "    <tr>\n",
       "      <td>90</td>\n",
       "      <td>0.000554</td>\n",
       "      <td>0.001606</td>\n",
       "      <td>00:00</td>\n",
       "    </tr>\n",
       "    <tr>\n",
       "      <td>90</td>\n",
       "      <td>0.000554</td>\n",
       "      <td>0.001606</td>\n",
       "      <td>00:00</td>\n",
       "    </tr>\n",
       "    <tr>\n",
       "      <td>91</td>\n",
       "      <td>0.000397</td>\n",
       "      <td>0.000513</td>\n",
       "      <td>00:01</td>\n",
       "    </tr>\n",
       "    <tr>\n",
       "      <td>91</td>\n",
       "      <td>0.000397</td>\n",
       "      <td>0.000513</td>\n",
       "      <td>00:01</td>\n",
       "    </tr>\n",
       "    <tr>\n",
       "      <td>92</td>\n",
       "      <td>0.000434</td>\n",
       "      <td>0.001495</td>\n",
       "      <td>00:01</td>\n",
       "    </tr>\n",
       "    <tr>\n",
       "      <td>92</td>\n",
       "      <td>0.000434</td>\n",
       "      <td>0.001495</td>\n",
       "      <td>00:01</td>\n",
       "    </tr>\n",
       "    <tr>\n",
       "      <td>93</td>\n",
       "      <td>0.000427</td>\n",
       "      <td>0.000554</td>\n",
       "      <td>00:00</td>\n",
       "    </tr>\n",
       "    <tr>\n",
       "      <td>93</td>\n",
       "      <td>0.000427</td>\n",
       "      <td>0.000554</td>\n",
       "      <td>00:00</td>\n",
       "    </tr>\n",
       "    <tr>\n",
       "      <td>94</td>\n",
       "      <td>0.000482</td>\n",
       "      <td>0.000106</td>\n",
       "      <td>00:00</td>\n",
       "    </tr>\n",
       "    <tr>\n",
       "      <td>94</td>\n",
       "      <td>0.000482</td>\n",
       "      <td>0.000106</td>\n",
       "      <td>00:00</td>\n",
       "    </tr>\n",
       "    <tr>\n",
       "      <td>95</td>\n",
       "      <td>0.000467</td>\n",
       "      <td>0.000803</td>\n",
       "      <td>00:00</td>\n",
       "    </tr>\n",
       "    <tr>\n",
       "      <td>95</td>\n",
       "      <td>0.000467</td>\n",
       "      <td>0.000803</td>\n",
       "      <td>00:00</td>\n",
       "    </tr>\n",
       "    <tr>\n",
       "      <td>96</td>\n",
       "      <td>0.000383</td>\n",
       "      <td>0.000515</td>\n",
       "      <td>00:00</td>\n",
       "    </tr>\n",
       "    <tr>\n",
       "      <td>96</td>\n",
       "      <td>0.000383</td>\n",
       "      <td>0.000515</td>\n",
       "      <td>00:00</td>\n",
       "    </tr>\n",
       "    <tr>\n",
       "      <td>97</td>\n",
       "      <td>0.000378</td>\n",
       "      <td>0.000149</td>\n",
       "      <td>00:00</td>\n",
       "    </tr>\n",
       "    <tr>\n",
       "      <td>97</td>\n",
       "      <td>0.000378</td>\n",
       "      <td>0.000149</td>\n",
       "      <td>00:00</td>\n",
       "    </tr>\n",
       "    <tr>\n",
       "      <td>98</td>\n",
       "      <td>0.000403</td>\n",
       "      <td>0.000193</td>\n",
       "      <td>00:00</td>\n",
       "    </tr>\n",
       "    <tr>\n",
       "      <td>98</td>\n",
       "      <td>0.000403</td>\n",
       "      <td>0.000193</td>\n",
       "      <td>00:00</td>\n",
       "    </tr>\n",
       "    <tr>\n",
       "      <td>99</td>\n",
       "      <td>0.000478</td>\n",
       "      <td>0.000377</td>\n",
       "      <td>00:00</td>\n",
       "    </tr>\n",
       "    <tr>\n",
       "      <td>99</td>\n",
       "      <td>0.000478</td>\n",
       "      <td>0.000377</td>\n",
       "      <td>00:00</td>\n",
       "    </tr>\n",
       "  </tbody>\n",
       "</table>"
      ],
      "text/plain": [
       "<IPython.core.display.HTML object>"
      ]
     },
     "metadata": {},
     "output_type": "display_data"
    }
   ],
   "source": [
    "learn.fit(n_epoch=100)"
   ]
  },
  {
   "cell_type": "markdown",
   "metadata": {
    "id": "W_G529qfeceE"
   },
   "source": [
    "Plotting loss curves for train dataset."
   ]
  },
  {
   "cell_type": "code",
   "execution_count": 17,
   "metadata": {
    "colab": {
     "base_uri": "https://localhost:8080/",
     "height": 268
    },
    "executionInfo": {
     "elapsed": 93349,
     "status": "ok",
     "timestamp": 1615989433777,
     "user": {
      "displayName": "Shivam Balikondwar",
      "photoUrl": "https://lh3.googleusercontent.com/a-/AOh14GhP350413RUyAo9Fb-EoVnG0MwLSZoEOnbJ1cY3=s64",
      "userId": "09326338805341118172"
     },
     "user_tz": -330
    },
    "id": "pr0vMkWEHf47",
    "outputId": "6599af85-c697-43e9-911d-e3f949e18875"
   },
   "outputs": [
    {
     "data": {
      "image/png": "[encoded data removed]",
      "text/plain": [
       "<Figure size 432x288 with 1 Axes>"
      ]
     },
     "metadata": {
      "needs_background": "light"
     },
     "output_type": "display_data"
    }
   ],
   "source": [
    "learn.recorder.plot_loss()"
   ]
  },
  {
   "cell_type": "code",
   "execution_count": 18,
   "metadata": {
    "colab": {
     "base_uri": "https://localhost:8080/",
     "height": 323
    },
    "executionInfo": {
     "elapsed": 94299,
     "status": "ok",
     "timestamp": 1615989434733,
     "user": {
      "displayName": "Shivam Balikondwar",
      "photoUrl": "https://lh3.googleusercontent.com/a-/AOh14GhP350413RUyAo9Fb-EoVnG0MwLSZoEOnbJ1cY3=s64",
      "userId": "09326338805341118172"
     },
     "user_tz": -330
    },
    "id": "W09IJurPMYFF",
    "outputId": "9a2046ce-90ff-4902-ad3f-cf6726eba795"
   },
   "outputs": [
    {
     "data": {
      "text/html": [],
      "text/plain": [
       "<IPython.core.display.HTML object>"
      ]
     },
     "metadata": {},
     "output_type": "display_data"
    },
    {
     "name": "stdout",
     "output_type": "stream",
     "text": [
      "Learning rate with the minimum loss: 4.786300996784121e-05\n",
      "Learning rate with the steepest gradient: 4.786300905834651e-06\n"
     ]
    },
    {
     "data": {
      "image/png": "[encoded data removed]",
      "text/plain": [
       "<Figure size 432x288 with 1 Axes>"
      ]
     },
     "metadata": {
      "needs_background": "light"
     },
     "output_type": "display_data"
    }
   ],
   "source": [
    "lr_min, lr_steep = learn.lr_find()\n",
    "\n",
    "print('Learning rate with the minimum loss:', lr_min)\n",
    "print('Learning rate with the steepest gradient:', lr_steep)"
   ]
  },
  {
   "cell_type": "code",
   "execution_count": 19,
   "metadata": {
    "colab": {
     "base_uri": "https://localhost:8080/",
     "height": 35
    },
    "executionInfo": {
     "elapsed": 95035,
     "status": "ok",
     "timestamp": 1615989435475,
     "user": {
      "displayName": "Shivam Balikondwar",
      "photoUrl": "https://lh3.googleusercontent.com/a-/AOh14GhP350413RUyAo9Fb-EoVnG0MwLSZoEOnbJ1cY3=s64",
      "userId": "09326338805341118172"
     },
     "user_tz": -330
    },
    "id": "vOwC8duIS7VB",
    "outputId": "21fc09af-a418-46b1-f774-3a60c49b56cc"
   },
   "outputs": [
    {
     "data": {
      "text/html": [],
      "text/plain": [
       "<IPython.core.display.HTML object>"
      ]
     },
     "metadata": {},
     "output_type": "display_data"
    },
    {
     "data": {
      "text/plain": [
       "(#1) [0.0003766538284253329]"
      ]
     },
     "execution_count": 19,
     "metadata": {},
     "output_type": "execute_result"
    }
   ],
   "source": [
    "learn.validate()"
   ]
  },
  {
   "cell_type": "markdown",
   "metadata": {
    "id": "SqstRinZVjjS"
   },
   "source": [
    "Plotting the predicted and input data as a histogram displays performance of the compressor."
   ]
  },
  {
   "cell_type": "code",
   "execution_count": 20,
   "metadata": {
    "colab": {
     "base_uri": "https://localhost:8080/",
     "height": 1000
    },
    "executionInfo": {
     "elapsed": 102166,
     "status": "ok",
     "timestamp": 1615989442611,
     "user": {
      "displayName": "Shivam Balikondwar",
      "photoUrl": "https://lh3.googleusercontent.com/a-/AOh14GhP350413RUyAo9Fb-EoVnG0MwLSZoEOnbJ1cY3=s64",
      "userId": "09326338805341118172"
     },
     "user_tz": -330
    },
    "id": "WXnORa87-AF1",
    "outputId": "b6272b7e-26c3-49cd-edd8-6584ef22b7b1"
   },
   "outputs": [
    {
     "data": {
      "image/png": "[encoded data removed]",
      "text/plain": [
       "<Figure size 432x288 with 1 Axes>"
      ]
     },
     "metadata": {
      "needs_background": "light"
     },
     "output_type": "display_data"
    },
    {
     "data": {
      "image/png": "[encoded data removed]",
      "text/plain": [
       "<Figure size 432x288 with 1 Axes>"
      ]
     },
     "metadata": {
      "needs_background": "light"
     },
     "output_type": "display_data"
    },
    {
     "data": {
      "image/png": "[encoded data removed]",
      "text/plain": [
       "<Figure size 432x288 with 1 Axes>"
      ]
     },
     "metadata": {
      "needs_background": "light"
     },
     "output_type": "display_data"
    },
    {
     "data": {
      "image/png": "[encoded data removed]",
      "text/plain": [
       "<Figure size 432x288 with 1 Axes>"
      ]
     },
     "metadata": {
      "needs_background": "light"
     },
     "output_type": "display_data"
    }
   ],
   "source": [
    "plt.close('all')\n",
    "\n",
    "#Function to define graph visualisation\n",
    "def sciy():\n",
    "    plt.gca().ticklabel_format(style='sci', scilimits=(0, 0), axis='y')\n",
    "\n",
    "#Function to plot input vs output histogram\n",
    "def plot_hst(test):\n",
    "\n",
    "  #Events range to compare \n",
    "  idxs = (0, ln)\n",
    "  data = torch.tensor(test[idxs[0]:idxs[1]].values, dtype=torch.float)\n",
    "\n",
    "  pred = model(data)\n",
    "  pred = pred.detach().numpy()\n",
    "  data = data.detach().numpy()\n",
    "\n",
    "  data_df = pd.DataFrame(data, columns=test.columns)\n",
    "  pred_df = pd.DataFrame(pred, columns=test.columns)\n",
    "\n",
    "  alph = 0.8\n",
    "  n_bins = 200\n",
    "  for kk in np.arange(4):\n",
    "      plt.figure()\n",
    "      n_hist_data, bin_edges, _ = plt.hist(data[:, kk], color=colors[1], label='Input', alpha=1, bins=n_bins)\n",
    "      n_hist_pred, _, _ = plt.hist(pred[:, kk], color=colors[0], label='Output', alpha=alph, bins=bin_edges)\n",
    "      plt.suptitle(test.columns[kk])\n",
    "      plt.xlabel(test.columns[kk])\n",
    "      plt.ylabel('Number of events')\n",
    "      sciy()\n",
    "\n",
    "      plt.yscale('log')\n",
    "      plt.legend()\n",
    "\n",
    "plot_hst(test_normal_x)"
   ]
  },
  {
   "cell_type": "markdown",
   "metadata": {
    "id": "5NTpSkvAXbdy"
   },
   "source": [
    "Plotting input vs output graph and plot of ratio of the input to output relation for each jet event."
   ]
  },
  {
   "cell_type": "code",
   "execution_count": 21,
   "metadata": {
    "colab": {
     "base_uri": "https://localhost:8080/",
     "height": 1000
    },
    "executionInfo": {
     "elapsed": 104512,
     "status": "ok",
     "timestamp": 1615989444963,
     "user": {
      "displayName": "Shivam Balikondwar",
      "photoUrl": "https://lh3.googleusercontent.com/a-/AOh14GhP350413RUyAo9Fb-EoVnG0MwLSZoEOnbJ1cY3=s64",
      "userId": "09326338805341118172"
     },
     "user_tz": -330
    },
    "id": "a2AC-6lYD0E-",
    "outputId": "55ce987b-60e0-44cb-e867-3e3d294bb1ad"
   },
   "outputs": [
    {
     "data": {
      "text/plain": [
       "<Figure size 432x288 with 0 Axes>"
      ]
     },
     "metadata": {},
     "output_type": "display_data"
    },
    {
     "data": {
      "image/png": "[encoded data removed]",
      "text/plain": [
       "<Figure size 576x576 with 2 Axes>"
      ]
     },
     "metadata": {
      "needs_background": "light"
     },
     "output_type": "display_data"
    },
    {
     "data": {
      "image/png": "[encoded data removed]",
      "text/plain": [
       "<Figure size 576x576 with 2 Axes>"
      ]
     },
     "metadata": {
      "needs_background": "light"
     },
     "output_type": "display_data"
    },
    {
     "data": {
      "image/png": "[encoded data removed]",
      "text/plain": [
       "<Figure size 576x576 with 2 Axes>"
      ]
     },
     "metadata": {
      "needs_background": "light"
     },
     "output_type": "display_data"
    },
    {
     "data": {
      "image/png": "[encoded data removed]",
      "text/plain": [
       "<Figure size 576x576 with 2 Axes>"
      ]
     },
     "metadata": {
      "needs_background": "light"
     },
     "output_type": "display_data"
    }
   ],
   "source": [
    "#Function to return ratio of input and output\n",
    "def getRatio(bin1,bin2):\n",
    "    bins = []\n",
    "    for b1,b2 in zip(bin1,bin2):\n",
    "        if b1==0 and b2==0:\n",
    "            bins.append(0.)\n",
    "        elif b2==0:\n",
    "            bins.append(None)\n",
    "        else:\n",
    "            bins.append((float(b2)-float(b1))/b1)\n",
    "    return bins\n",
    "\n",
    "idxs = (0,ln)\n",
    "data = torch.tensor(test_normal_x[idxs[0]:idxs[1]].values, dtype=torch.float)\n",
    "\n",
    "#Prediction of test sample\n",
    "pred = model(data)\n",
    "pred = pred.detach().numpy()\n",
    "data = data.detach().numpy()\n",
    "\n",
    "#Plotting histogram and ratio plots\n",
    "alph = 0.8\n",
    "n_bins = 50\n",
    "for kk in [0,1,2,3]:\n",
    "    plt.figure(kk + 4)\n",
    "    fig, (ax1, ax2) = plt.subplots(nrows=2, figsize=(8,8),gridspec_kw={'height_ratios': [3, 1]}, sharex=True)\n",
    "    n_hist_data, bin_edges, _ = ax1.hist(data[:, kk], color=colors[1], label='Input', alpha=1, bins=n_bins, histtype=\"step\",linewidth=2)\n",
    "    n_hist_pred, _, _ = ax1.hist(pred[:, kk], color=colors[0], label='Output', alpha=1, bins=bin_edges, histtype='step',linewidth=2)\n",
    "    plt.xlabel(variable_list[kk] + ' ' + unit_list[kk])\n",
    "    ax1.set(ylabel='Number of events')\n",
    "    ax1.legend(loc=8)\n",
    "    \n",
    "    #Plotting ratio plots\n",
    "    rat = getRatio(n_hist_data,n_hist_pred)\n",
    "    ax2.step(bin_edges[1:],rat, color='black',linewidth=2)\n",
    "    plt.tight_layout()"
   ]
  },
  {
   "cell_type": "markdown",
   "metadata": {
    "id": "R96GHno-c3_X"
   },
   "source": [
    "Plotting residuals for each jet entries "
   ]
  },
  {
   "cell_type": "code",
   "execution_count": 22,
   "metadata": {
    "colab": {
     "base_uri": "https://localhost:8080/",
     "height": 1000
    },
    "executionInfo": {
     "elapsed": 106751,
     "status": "ok",
     "timestamp": 1615989447207,
     "user": {
      "displayName": "Shivam Balikondwar",
      "photoUrl": "https://lh3.googleusercontent.com/a-/AOh14GhP350413RUyAo9Fb-EoVnG0MwLSZoEOnbJ1cY3=s64",
      "userId": "09326338805341118172"
     },
     "user_tz": -330
    },
    "id": "Nq-HAen71ZP3",
    "outputId": "bd4c6e61-ee39-447b-fa49-e1abc017a00f"
   },
   "outputs": [
    {
     "data": {
      "image/png": "[encoded data removed]",
      "text/plain": [
       "<Figure size 432x288 with 1 Axes>"
      ]
     },
     "metadata": {
      "needs_background": "light"
     },
     "output_type": "display_data"
    },
    {
     "data": {
      "image/png": "[encoded data removed]",
      "text/plain": [
       "<Figure size 432x288 with 1 Axes>"
      ]
     },
     "metadata": {
      "needs_background": "light"
     },
     "output_type": "display_data"
    },
    {
     "data": {
      "image/png": "[encoded data removed]",
      "text/plain": [
       "<Figure size 432x288 with 1 Axes>"
      ]
     },
     "metadata": {
      "needs_background": "light"
     },
     "output_type": "display_data"
    },
    {
     "data": {
      "image/png": "[encoded data removed]",
      "text/plain": [
       "<Figure size 432x288 with 1 Axes>"
      ]
     },
     "metadata": {
      "needs_background": "light"
     },
     "output_type": "display_data"
    }
   ],
   "source": [
    "\n",
    "#Function to calculate std error of the data\n",
    "def std_error(x, axis=None, ddof=0):\n",
    "    return np.nanstd(x, axis=axis, ddof=ddof) / np.sqrt(2 * len(x))\n",
    "\n",
    "#Function to plot the reconstruction loss\n",
    "def resid(data,pred): \n",
    "  residual_strings = [r'$(p_{T,out} - p_{T,in}) / p_{T,in}$',\n",
    "                            r'$(\\eta_{out} - \\eta_{in}) / \\eta_{in}$',\n",
    "                            r'$(\\phi_{out} - \\phi_{in}) / \\phi_{in}$',\n",
    "                            r'$(E_{out} - E_{in}) / E_{in}$']\n",
    "  residuals = (pred - data)/data\n",
    "  aplh=0.8\n",
    "\n",
    "  lst = ['e', 'pt', 'eta', 'phi']\n",
    "\n",
    "  for kk in np.arange(4):\n",
    "    plt.figure()\n",
    "    n_hist_pred, bin_edges, _ = plt.hist(\n",
    "            residuals[:, kk], label='Residuals', linestyle=line_style[0], alpha=0.8, bins=100)\n",
    "    plt.suptitle('Residuals of %s' % lst[kk])\n",
    "    plt.xlabel(residual_strings[kk])\n",
    "    plt.ylabel('Number of jets')\n",
    "    sciy()\n",
    "\n",
    "    std = np.std(residuals[:, kk])\n",
    "    std_err = std_error(residuals[:, kk])\n",
    "    mean = np.nanmean(residuals[:, kk])\n",
    "    sem = stats.sem(residuals[:, kk], nan_policy='omit')\n",
    "    ax = plt.gca()\n",
    "    plt.text(.75, .8, 'Mean = %f$\\pm$%f\\n$\\sigma$ = %f$\\pm$%f' % (mean, sem, std, std_err), bbox={'facecolor': 'white', 'alpha': 0.7, 'pad': 10},\n",
    "                 horizontalalignment='center', verticalalignment='center', transform=ax.transAxes, fontsize=18)\n",
    "  return residuals\n",
    "\n",
    "residual_vars = resid(data,pred)"
   ]
  },
  {
   "cell_type": "markdown",
   "metadata": {
    "id": "6_NenRFic_Gm"
   },
   "source": [
    "Plotting correlation of residuals of each jet entries"
   ]
  },
  {
   "cell_type": "code",
   "execution_count": 23,
   "metadata": {
    "colab": {
     "base_uri": "https://localhost:8080/",
     "height": 710
    },
    "executionInfo": {
     "elapsed": 109607,
     "status": "ok",
     "timestamp": 1615989450068,
     "user": {
      "displayName": "Shivam Balikondwar",
      "photoUrl": "https://lh3.googleusercontent.com/a-/AOh14GhP350413RUyAo9Fb-EoVnG0MwLSZoEOnbJ1cY3=s64",
      "userId": "09326338805341118172"
     },
     "user_tz": -330
    },
    "id": "yvHO5o5-EHHw",
    "outputId": "64b08901-fbf1-4906-803a-95503fa4fa14"
   },
   "outputs": [
    {
     "data": {
      "image/png": "[encoded data removed]",
      "text/plain": [
       "<Figure size 698.4x698.4 with 17 Axes>"
      ]
     },
     "metadata": {
      "needs_background": "light"
     },
     "output_type": "display_data"
    }
   ],
   "source": [
    "\n",
    "#Function to plot correlation between the different variable residuals\n",
    "def correlations(residuals):\n",
    "    res_df = pd.DataFrame({'pt': residuals[:, 0], 'eta': residuals[:, 1], 'phi': residuals[:, 2], 'e': residuals[:, 3]})\n",
    "\n",
    "    # Generate a custom diverging colormap\n",
    "    cmap = sns.diverging_palette(10, 220, as_cmap=True)\n",
    "\n",
    "    norm = mpl.colors.Normalize(vmin=-1, vmax=1, clip=False)\n",
    "    mappable = mpl.cm.ScalarMappable(norm=norm, cmap=cmap)\n",
    "\n",
    "    group = ['e','pt','eta','phi']\n",
    "\n",
    "    label_kwargs = {'fontsize': 20}\n",
    "    title_kwargs = {\"fontsize\": 11}\n",
    "    mpl.rcParams['lines.linewidth'] = 1\n",
    "    mpl.rcParams['xtick.labelsize'] = 12\n",
    "    mpl.rcParams['ytick.labelsize'] = 12\n",
    "    group_arr = res_df.values\n",
    "    corr = res_df.corr()\n",
    "    qs = np.quantile(group_arr, q=[.0025, .9975], axis=0)\n",
    "    ndim = qs.shape[1]\n",
    "    ranges = [tuple(qs[:, kk]) for kk in np.arange(ndim)]\n",
    "    figure = corner(group_arr, range=ranges, plot_density=True, plot_contours=True, no_fill_contours=False,\n",
    "                    bins=50, labels=group, label_kwargs=label_kwargs,\n",
    "                    show_titles=True, title_kwargs=title_kwargs, quantiles=(0.16, 0.84),\n",
    "                    levels=(1 - np.exp(-0.5), .90), fill_contours=False, title_fmt='.1e')\n",
    "\n",
    "    # Extract the axes\n",
    "    axes = np.array(figure.axes).reshape((ndim, ndim))\n",
    "    # Loop over the diagonal\n",
    "    linecol = 'r'\n",
    "    linstyl = 'dashed'\n",
    "    # Loop over the histograms\n",
    "    for yi in np.arange(ndim):\n",
    "        for xi in np.arange(yi):\n",
    "            ax = axes[yi, xi]\n",
    "            # Set face color according to correlation\n",
    "            ax.set_facecolor(color=mappable.to_rgba(corr.values[yi, xi]))\n",
    "    cax = figure.add_axes([.87, .4, .04, 0.55])\n",
    "    cbar = plt.colorbar(mappable, cax=cax, format='%.1f', ticks=np.arange(-1., 1.1, 0.2))\n",
    "    cbar.ax.set_ylabel('Correlation', fontsize=20)\n",
    "\n",
    "correlations(residual_vars)"
   ]
  }
 ],
 "metadata": {
  "accelerator": "GPU",
  "colab": {
   "authorship_tag": "ABX9TyP5iZnWgyPWCC6e9TC90T7Y",
   "collapsed_sections": [],
   "name": "dataencoderfastai.ipynb",
   "provenance": [
    {
     "file_id": "10t2VgpiKhtaoFTzzpDWxh2oc03rX2cCE",
     "timestamp": 1615713351126
    },
    {
     "file_id": "1kUVnEYxiaAmxRzmNva8X31CVztCyvEB4",
     "timestamp": 1615493427835
    }
   ]
  },
  "kernelspec": {
   "display_name": "Python 3",
   "language": "python",
   "name": "python3"
  },
  "language_info": {
   "codemirror_mode": {
    "name": "ipython",
    "version": 3
   },
   "file_extension": ".py",
   "mimetype": "text/x-python",
   "name": "python",
   "nbconvert_exporter": "python",
   "pygments_lexer": "ipython3",
   "version": "3.8.5"
  }
 },
 "nbformat": 4,
 "nbformat_minor": 1
}
